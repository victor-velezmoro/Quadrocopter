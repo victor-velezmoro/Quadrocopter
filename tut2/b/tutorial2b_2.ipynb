{
 "cells": [
  {
   "cell_type": "code",
   "execution_count": 53,
   "id": "39739c8e",
   "metadata": {},
   "outputs": [
    {
     "name": "stderr",
     "output_type": "stream",
     "text": [
      "\u001b[32m\u001b[1m  Activating\u001b[22m\u001b[39m project at `c:\\Users\\Jan\\OneDrive\\13_Drive_Arbeit\\04Lehre\\Vorlesungen\\STIR\\stir\\tutorials\\tutorial2b\\tutorial2bjl`\n"
     ]
    }
   ],
   "source": [
    "using Pkg\n",
    "Pkg.activate(@__DIR__)\n",
    "Pkg.instantiate()"
   ]
  },
  {
   "cell_type": "code",
   "execution_count": 54,
   "id": "f21bce9d",
   "metadata": {},
   "outputs": [
    {
     "data": {
      "text/plain": [
       "1×2 Matrix{Int64}:\n",
       " 2  2"
      ]
     },
     "metadata": {},
     "output_type": "display_data"
    }
   ],
   "source": [
    "using Dojo\n",
    "using Dojo: SA_F32  # From StaticArrays\n",
    "using Flux\n",
    "using Plots\n",
    "\n",
    "function get_mechanism()\n",
    "    origin = Origin()\n",
    "    body = Sphere(0.25, 1.0)\n",
    "    joint = JointConstraint(Prismatic(origin, body, [0,1,0]; parent_vertex=[0,0,0.5]))\n",
    "    mechanism = Mechanism(origin, [body], [joint], timestep=0.2)\n",
    "\n",
    "    return mechanism\n",
    "end\n",
    "\n",
    "function reset_mechanism!(mechanism)\n",
    "    set_minimal_coordinates!(mechanism, mechanism.joints[1], [0])\n",
    "    set_minimal_velocities!(mechanism, mechanism.joints[1], [0])\n",
    "    return\n",
    "end\n",
    "\n",
    "GAINS = [2 2]"
   ]
  },
  {
   "attachments": {},
   "cell_type": "markdown",
   "id": "5f8769b2",
   "metadata": {},
   "source": [
    "### 3.1"
   ]
  },
  {
   "cell_type": "code",
   "execution_count": 55,
   "id": "7c2e79eb",
   "metadata": {},
   "outputs": [
    {
     "name": "stderr",
     "output_type": "stream",
     "text": [
      "┌ Info: Listening on: 127.0.0.1:8717, thread id: 1\n",
      "└ @ HTTP.Servers C:\\Users\\Jan\\.julia\\packages\\HTTP\\enKbm\\src\\Servers.jl:369\n",
      "┌ Info: MeshCat server started. You can open the visualizer by visiting the following URL in your browser:\n",
      "│ http://127.0.0.1:8717\n",
      "└ @ MeshCat C:\\Users\\Jan\\.julia\\packages\\MeshCat\\QXID5\\src\\visualizer.jl:64\n"
     ]
    },
    {
     "data": {
      "text/html": [
       "    <div style=\"height: 500px; width: 100%; overflow-x: auto; overflow-y: hidden; resize: both\">\n",
       "    <iframe src=\"http://127.0.0.1:8717\" style=\"width: 100%; height: 100%; border: none\"></iframe>\n",
       "    </div>\n"
      ],
      "text/plain": [
       "MeshCat.DisplayedVisualizer(MeshCat.CoreVisualizer(MeshCat.SceneTrees.SceneNode(nothing, nothing, Dict{String, Vector{UInt8}}(), UInt8[0x83, 0xa7, 0x6f, 0x70, 0x74, 0x69, 0x6f, 0x6e, 0x73, 0x82  …  0x5f, 0x61, 0x6e, 0x69, 0x6d, 0x61, 0x74, 0x69, 0x6f, 0x6e], Dict{String, MeshCat.SceneTrees.SceneNode}(\"Background\" => MeshCat.SceneTrees.SceneNode(nothing, nothing, Dict{String, Vector{UInt8}}(\"top_color\" => [0x84, 0xa8, 0x70, 0x72, 0x6f, 0x70, 0x65, 0x72, 0x74, 0x79  …  0x42, 0x61, 0x63, 0x6b, 0x67, 0x72, 0x6f, 0x75, 0x6e, 0x64], \"bottom_color\" => [0x84, 0xa8, 0x70, 0x72, 0x6f, 0x70, 0x65, 0x72, 0x74, 0x79  …  0x42, 0x61, 0x63, 0x6b, 0x67, 0x72, 0x6f, 0x75, 0x6e, 0x64]), nothing, Dict{String, MeshCat.SceneTrees.SceneNode}()), \"Grid\" => MeshCat.SceneTrees.SceneNode(nothing, nothing, Dict{String, Vector{UInt8}}(\"visible\" => [0x84, 0xa8, 0x70, 0x72, 0x6f, 0x70, 0x65, 0x72, 0x74, 0x79  …  0x70, 0x61, 0x74, 0x68, 0xa5, 0x2f, 0x47, 0x72, 0x69, 0x64]), nothing, Dict{String, MeshCat.SceneTrees.SceneNode}()), \"meshcat\" => MeshCat.SceneTrees.SceneNode(nothing, nothing, Dict{String, Vector{UInt8}}(), nothing, Dict{String, MeshCat.SceneTrees.SceneNode}(\"floor\" => MeshCat.SceneTrees.SceneNode(UInt8[0x83, 0xa6, 0x6f, 0x62, 0x6a, 0x65, 0x63, 0x74, 0x84, 0xaa  …  0x68, 0x63, 0x61, 0x74, 0x2f, 0x66, 0x6c, 0x6f, 0x6f, 0x72], UInt8[0x83, 0xa6, 0x6d, 0x61, 0x74, 0x72, 0x69, 0x78, 0xc7, 0x40  …  0x68, 0x63, 0x61, 0x74, 0x2f, 0x66, 0x6c, 0x6f, 0x6f, 0x72], Dict{String, Vector{UInt8}}(), nothing, Dict{String, MeshCat.SceneTrees.SceneNode}()), \"robot\" => MeshCat.SceneTrees.SceneNode(nothing, nothing, Dict{String, Vector{UInt8}}(), nothing, Dict{String, MeshCat.SceneTrees.SceneNode}(\"bodies\" => MeshCat.SceneTrees.SceneNode(nothing, nothing, Dict{String, Vector{UInt8}}(), nothing, Dict{String, MeshCat.SceneTrees.SceneNode}(\"body_0F7a__id_1\" => MeshCat.SceneTrees.SceneNode(UInt8[0x83, 0xa6, 0x6f, 0x62, 0x6a, 0x65, 0x63, 0x74, 0x84, 0xaa  …  0x30, 0x46, 0x37, 0x61, 0x5f, 0x5f, 0x69, 0x64, 0x5f, 0x31], nothing, Dict{String, Vector{UInt8}}(), nothing, Dict{String, MeshCat.SceneTrees.SceneNode}()))))))), \"Lights\" => MeshCat.SceneTrees.SceneNode(nothing, nothing, Dict{String, Vector{UInt8}}(), nothing, Dict{String, MeshCat.SceneTrees.SceneNode}(\"PointLightPositiveX\" => MeshCat.SceneTrees.SceneNode(nothing, nothing, Dict{String, Vector{UInt8}}(), nothing, Dict{String, MeshCat.SceneTrees.SceneNode}(\"<object>\" => MeshCat.SceneTrees.SceneNode(nothing, nothing, Dict{String, Vector{UInt8}}(\"intensity\" => [0x84, 0xa8, 0x70, 0x72, 0x6f, 0x70, 0x65, 0x72, 0x74, 0x79  …  0x58, 0x2f, 0x3c, 0x6f, 0x62, 0x6a, 0x65, 0x63, 0x74, 0x3e], \"castShadow\" => [0x84, 0xa8, 0x70, 0x72, 0x6f, 0x70, 0x65, 0x72, 0x74, 0x79  …  0x58, 0x2f, 0x3c, 0x6f, 0x62, 0x6a, 0x65, 0x63, 0x74, 0x3e]), nothing, Dict{String, MeshCat.SceneTrees.SceneNode}()))), \"AmbientLight\" => MeshCat.SceneTrees.SceneNode(nothing, nothing, Dict{String, Vector{UInt8}}(), nothing, Dict{String, MeshCat.SceneTrees.SceneNode}(\"<object>\" => MeshCat.SceneTrees.SceneNode(nothing, nothing, Dict{String, Vector{UInt8}}(\"intensity\" => [0x84, 0xa8, 0x70, 0x72, 0x6f, 0x70, 0x65, 0x72, 0x74, 0x79  …  0x74, 0x2f, 0x3c, 0x6f, 0x62, 0x6a, 0x65, 0x63, 0x74, 0x3e]), nothing, Dict{String, MeshCat.SceneTrees.SceneNode}()))), \"FillLight\" => MeshCat.SceneTrees.SceneNode(nothing, nothing, Dict{String, Vector{UInt8}}(), nothing, Dict{String, MeshCat.SceneTrees.SceneNode}(\"<object>\" => MeshCat.SceneTrees.SceneNode(nothing, nothing, Dict{String, Vector{UInt8}}(\"intensity\" => [0x84, 0xa8, 0x70, 0x72, 0x6f, 0x70, 0x65, 0x72, 0x74, 0x79  …  0x74, 0x2f, 0x3c, 0x6f, 0x62, 0x6a, 0x65, 0x63, 0x74, 0x3e]), nothing, Dict{String, MeshCat.SceneTrees.SceneNode}()))))), \"Axes\" => MeshCat.SceneTrees.SceneNode(nothing, nothing, Dict{String, Vector{UInt8}}(\"visible\" => [0x84, 0xa8, 0x70, 0x72, 0x6f, 0x70, 0x65, 0x72, 0x74, 0x79  …  0x70, 0x61, 0x74, 0x68, 0xa5, 0x2f, 0x41, 0x78, 0x65, 0x73]), nothing, Dict{String, MeshCat.SceneTrees.SceneNode}()))), Set{HTTP.WebSockets.WebSocket}(), ip\"127.0.0.1\", 8717, HTTP.Servers.Server{HTTP.Servers.Listener{Nothing, Sockets.TCPServer}}(HTTP.Servers.Listener{Nothing, Sockets.TCPServer}(Sockets.InetAddr{Sockets.IPv4}(ip\"127.0.0.1\", 8717), \"127.0.0.1\", \"8717\", nothing, Sockets.TCPServer(Base.Libc.WindowsRawSocket(0x00000000000006e4) active)), nothing, Set{HTTP.Connections.Connection}(), Task (runnable) @0x00000202672068c0)))"
      ]
     },
     "metadata": {},
     "output_type": "display_data"
    }
   ],
   "source": [
    "mechanism = get_mechanism()\n",
    "reset_mechanism!(mechanism)\n",
    "\n",
    "function controller!(mechanism, k)\n",
    "    u = [7]\n",
    "    clamp!(u,-2,2)\n",
    "    set_input!(mechanism, u)\n",
    "end\n",
    "\n",
    "storage = simulate!(mechanism, 5.0, controller!, record=true)\n",
    "vis = visualize(mechanism, storage)\n",
    "render(vis)\n"
   ]
  },
  {
   "cell_type": "markdown",
   "id": "b17e4d88",
   "metadata": {},
   "source": [
    "### 3.2"
   ]
  },
  {
   "cell_type": "code",
   "execution_count": 56,
   "id": "e3062f85",
   "metadata": {},
   "outputs": [
    {
     "name": "stderr",
     "output_type": "stream",
     "text": [
      "┌ Info: Listening on: 127.0.0.1:8718, thread id: 1\n",
      "└ @ HTTP.Servers C:\\Users\\Jan\\.julia\\packages\\HTTP\\enKbm\\src\\Servers.jl:369\n",
      "┌ Info: MeshCat server started. You can open the visualizer by visiting the following URL in your browser:\n",
      "│ http://127.0.0.1:8718\n",
      "└ @ MeshCat C:\\Users\\Jan\\.julia\\packages\\MeshCat\\QXID5\\src\\visualizer.jl:64\n"
     ]
    },
    {
     "data": {
      "text/html": [
       "    <div style=\"height: 500px; width: 100%; overflow-x: auto; overflow-y: hidden; resize: both\">\n",
       "    <iframe src=\"http://127.0.0.1:8718\" style=\"width: 100%; height: 100%; border: none\"></iframe>\n",
       "    </div>\n"
      ],
      "text/plain": [
       "MeshCat.DisplayedVisualizer(MeshCat.CoreVisualizer(MeshCat.SceneTrees.SceneNode(nothing, nothing, Dict{String, Vector{UInt8}}(), UInt8[0x83, 0xa7, 0x6f, 0x70, 0x74, 0x69, 0x6f, 0x6e, 0x73, 0x82  …  0x5f, 0x61, 0x6e, 0x69, 0x6d, 0x61, 0x74, 0x69, 0x6f, 0x6e], Dict{String, MeshCat.SceneTrees.SceneNode}(\"Background\" => MeshCat.SceneTrees.SceneNode(nothing, nothing, Dict{String, Vector{UInt8}}(\"top_color\" => [0x84, 0xa8, 0x70, 0x72, 0x6f, 0x70, 0x65, 0x72, 0x74, 0x79  …  0x42, 0x61, 0x63, 0x6b, 0x67, 0x72, 0x6f, 0x75, 0x6e, 0x64], \"bottom_color\" => [0x84, 0xa8, 0x70, 0x72, 0x6f, 0x70, 0x65, 0x72, 0x74, 0x79  …  0x42, 0x61, 0x63, 0x6b, 0x67, 0x72, 0x6f, 0x75, 0x6e, 0x64]), nothing, Dict{String, MeshCat.SceneTrees.SceneNode}()), \"Grid\" => MeshCat.SceneTrees.SceneNode(nothing, nothing, Dict{String, Vector{UInt8}}(\"visible\" => [0x84, 0xa8, 0x70, 0x72, 0x6f, 0x70, 0x65, 0x72, 0x74, 0x79  …  0x70, 0x61, 0x74, 0x68, 0xa5, 0x2f, 0x47, 0x72, 0x69, 0x64]), nothing, Dict{String, MeshCat.SceneTrees.SceneNode}()), \"meshcat\" => MeshCat.SceneTrees.SceneNode(nothing, nothing, Dict{String, Vector{UInt8}}(), nothing, Dict{String, MeshCat.SceneTrees.SceneNode}(\"floor\" => MeshCat.SceneTrees.SceneNode(UInt8[0x83, 0xa6, 0x6f, 0x62, 0x6a, 0x65, 0x63, 0x74, 0x84, 0xaa  …  0x68, 0x63, 0x61, 0x74, 0x2f, 0x66, 0x6c, 0x6f, 0x6f, 0x72], UInt8[0x83, 0xa6, 0x6d, 0x61, 0x74, 0x72, 0x69, 0x78, 0xc7, 0x40  …  0x68, 0x63, 0x61, 0x74, 0x2f, 0x66, 0x6c, 0x6f, 0x6f, 0x72], Dict{String, Vector{UInt8}}(), nothing, Dict{String, MeshCat.SceneTrees.SceneNode}()), \"robot\" => MeshCat.SceneTrees.SceneNode(nothing, nothing, Dict{String, Vector{UInt8}}(), nothing, Dict{String, MeshCat.SceneTrees.SceneNode}(\"bodies\" => MeshCat.SceneTrees.SceneNode(nothing, nothing, Dict{String, Vector{UInt8}}(), nothing, Dict{String, MeshCat.SceneTrees.SceneNode}(\"body_9Vwo__id_1\" => MeshCat.SceneTrees.SceneNode(UInt8[0x83, 0xa6, 0x6f, 0x62, 0x6a, 0x65, 0x63, 0x74, 0x84, 0xaa  …  0x39, 0x56, 0x77, 0x6f, 0x5f, 0x5f, 0x69, 0x64, 0x5f, 0x31], nothing, Dict{String, Vector{UInt8}}(), nothing, Dict{String, MeshCat.SceneTrees.SceneNode}()))))))), \"Lights\" => MeshCat.SceneTrees.SceneNode(nothing, nothing, Dict{String, Vector{UInt8}}(), nothing, Dict{String, MeshCat.SceneTrees.SceneNode}(\"PointLightPositiveX\" => MeshCat.SceneTrees.SceneNode(nothing, nothing, Dict{String, Vector{UInt8}}(), nothing, Dict{String, MeshCat.SceneTrees.SceneNode}(\"<object>\" => MeshCat.SceneTrees.SceneNode(nothing, nothing, Dict{String, Vector{UInt8}}(\"intensity\" => [0x84, 0xa8, 0x70, 0x72, 0x6f, 0x70, 0x65, 0x72, 0x74, 0x79  …  0x58, 0x2f, 0x3c, 0x6f, 0x62, 0x6a, 0x65, 0x63, 0x74, 0x3e], \"castShadow\" => [0x84, 0xa8, 0x70, 0x72, 0x6f, 0x70, 0x65, 0x72, 0x74, 0x79  …  0x58, 0x2f, 0x3c, 0x6f, 0x62, 0x6a, 0x65, 0x63, 0x74, 0x3e]), nothing, Dict{String, MeshCat.SceneTrees.SceneNode}()))), \"AmbientLight\" => MeshCat.SceneTrees.SceneNode(nothing, nothing, Dict{String, Vector{UInt8}}(), nothing, Dict{String, MeshCat.SceneTrees.SceneNode}(\"<object>\" => MeshCat.SceneTrees.SceneNode(nothing, nothing, Dict{String, Vector{UInt8}}(\"intensity\" => [0x84, 0xa8, 0x70, 0x72, 0x6f, 0x70, 0x65, 0x72, 0x74, 0x79  …  0x74, 0x2f, 0x3c, 0x6f, 0x62, 0x6a, 0x65, 0x63, 0x74, 0x3e]), nothing, Dict{String, MeshCat.SceneTrees.SceneNode}()))), \"FillLight\" => MeshCat.SceneTrees.SceneNode(nothing, nothing, Dict{String, Vector{UInt8}}(), nothing, Dict{String, MeshCat.SceneTrees.SceneNode}(\"<object>\" => MeshCat.SceneTrees.SceneNode(nothing, nothing, Dict{String, Vector{UInt8}}(\"intensity\" => [0x84, 0xa8, 0x70, 0x72, 0x6f, 0x70, 0x65, 0x72, 0x74, 0x79  …  0x74, 0x2f, 0x3c, 0x6f, 0x62, 0x6a, 0x65, 0x63, 0x74, 0x3e]), nothing, Dict{String, MeshCat.SceneTrees.SceneNode}()))))), \"Axes\" => MeshCat.SceneTrees.SceneNode(nothing, nothing, Dict{String, Vector{UInt8}}(\"visible\" => [0x84, 0xa8, 0x70, 0x72, 0x6f, 0x70, 0x65, 0x72, 0x74, 0x79  …  0x70, 0x61, 0x74, 0x68, 0xa5, 0x2f, 0x41, 0x78, 0x65, 0x73]), nothing, Dict{String, MeshCat.SceneTrees.SceneNode}()))), Set{HTTP.WebSockets.WebSocket}(), ip\"127.0.0.1\", 8718, HTTP.Servers.Server{HTTP.Servers.Listener{Nothing, Sockets.TCPServer}}(HTTP.Servers.Listener{Nothing, Sockets.TCPServer}(Sockets.InetAddr{Sockets.IPv4}(ip\"127.0.0.1\", 8718), \"127.0.0.1\", \"8718\", nothing, Sockets.TCPServer(Base.Libc.WindowsRawSocket(0x0000000000001290) active)), nothing, Set{HTTP.Connections.Connection}(), Task (runnable) @0x000002026fca3080)))"
      ]
     },
     "metadata": {},
     "output_type": "display_data"
    }
   ],
   "source": [
    "mechanism = get_mechanism()\n",
    "reset_mechanism!(mechanism)\n",
    "\n",
    "x_des = [3.0,0.0]\n",
    "function controller!(mechanism, k)\n",
    "    x = get_minimal_state(mechanism)\n",
    "    u = -GAINS * (x-x_des)\n",
    "    clamp!(u,-2,2)\n",
    "    set_input!(mechanism, u)\n",
    "end\n",
    "\n",
    "storage = simulate!(mechanism, 5.0, controller!, record=true)\n",
    "vis = visualize(mechanism, storage)\n",
    "render(vis)\n"
   ]
  },
  {
   "cell_type": "markdown",
   "id": "9c83ff9d",
   "metadata": {},
   "source": [
    "### 3.3"
   ]
  },
  {
   "cell_type": "code",
   "execution_count": 74,
   "id": "52eae883",
   "metadata": {},
   "outputs": [],
   "source": [
    "mechanism = get_mechanism()\n",
    "\n",
    "# data collection\n",
    "steps = 25  # 5 / 0.2\n",
    "N = 100\n",
    "states = [[zeros(2) for _ in 1:steps] for _ in 1:N]\n",
    "actions = [[zeros(1) for _ in 1:steps] for _ in 1:N]\n",
    "goals = [[zeros(1) for _ in 1:steps] for _ in 1:N]\n",
    "\n",
    "for i in 1:N\n",
    "    # x_des = [-3 + 6*i/N; 0]\n",
    "    x_des = [0 + 3*i/N; 0]\n",
    "    function controller!(mechanism, k)\n",
    "        x = get_minimal_state(mechanism)\n",
    "        u = -[2 2] * (x-x_des)\n",
    "        clamp!(u,-2,2)\n",
    "\n",
    "        states[i][k] = x\n",
    "        actions[i][k] = u\n",
    "        goals[i][k] = [x_des[1]]\n",
    "\n",
    "        set_input!(mechanism, u)\n",
    "    end\n",
    "    reset_mechanism!(mechanism)\n",
    "    storage = simulate!(mechanism, 5.0, controller!, record=false)\n",
    "end"
   ]
  },
  {
   "cell_type": "code",
   "execution_count": 75,
   "id": "751320fe",
   "metadata": {},
   "outputs": [],
   "source": [
    "# cat data\n",
    "states = vcat(states...)\n",
    "actions = vcat(actions...)\n",
    "goals = vcat(goals...)\n",
    "\n",
    "# normalize data\n",
    "actions = actions / 2  # just normalize by action limit in this case, ignoring state\n",
    "\n",
    "# training\n",
    "model = Chain(Dense(3 => 8, relu), Dense(8 => 8, relu), Dense(8 => 1, relu), Dense(1 => 1, tanh), only)\n",
    "data = [(SA_F32[states[i]...;goals[i]...], actions[i][1]) for i in 1:length(states)]\n",
    "optim = Flux.setup(Adam(), model)\n",
    "\n",
    "for epoch in 1:100\n",
    "    indices = rand(1:length(data), 256)\n",
    "    data_batch = data[indices]\n",
    "    Flux.train!((m,x,y) -> (m(x) - y)^2, model, data_batch, optim)\n",
    "end"
   ]
  },
  {
   "cell_type": "code",
   "execution_count": 78,
   "id": "df1fea42",
   "metadata": {},
   "outputs": [
    {
     "name": "stderr",
     "output_type": "stream",
     "text": [
      "┌ Info: Listening on: 127.0.0.1:8726, thread id: 1\n",
      "└ @ HTTP.Servers C:\\Users\\Jan\\.julia\\packages\\HTTP\\enKbm\\src\\Servers.jl:369\n",
      "┌ Info: MeshCat server started. You can open the visualizer by visiting the following URL in your browser:\n",
      "│ http://127.0.0.1:8726\n",
      "└ @ MeshCat C:\\Users\\Jan\\.julia\\packages\\MeshCat\\QXID5\\src\\visualizer.jl:64\n"
     ]
    },
    {
     "data": {
      "text/html": [
       "    <div style=\"height: 500px; width: 100%; overflow-x: auto; overflow-y: hidden; resize: both\">\n",
       "    <iframe src=\"http://127.0.0.1:8726\" style=\"width: 100%; height: 100%; border: none\"></iframe>\n",
       "    </div>\n"
      ],
      "text/plain": [
       "MeshCat.DisplayedVisualizer(MeshCat.CoreVisualizer(MeshCat.SceneTrees.SceneNode(nothing, nothing, Dict{String, Vector{UInt8}}(), UInt8[0x83, 0xa7, 0x6f, 0x70, 0x74, 0x69, 0x6f, 0x6e, 0x73, 0x82  …  0x5f, 0x61, 0x6e, 0x69, 0x6d, 0x61, 0x74, 0x69, 0x6f, 0x6e], Dict{String, MeshCat.SceneTrees.SceneNode}(\"Background\" => MeshCat.SceneTrees.SceneNode(nothing, nothing, Dict{String, Vector{UInt8}}(\"top_color\" => [0x84, 0xa8, 0x70, 0x72, 0x6f, 0x70, 0x65, 0x72, 0x74, 0x79  …  0x42, 0x61, 0x63, 0x6b, 0x67, 0x72, 0x6f, 0x75, 0x6e, 0x64], \"bottom_color\" => [0x84, 0xa8, 0x70, 0x72, 0x6f, 0x70, 0x65, 0x72, 0x74, 0x79  …  0x42, 0x61, 0x63, 0x6b, 0x67, 0x72, 0x6f, 0x75, 0x6e, 0x64]), nothing, Dict{String, MeshCat.SceneTrees.SceneNode}()), \"Grid\" => MeshCat.SceneTrees.SceneNode(nothing, nothing, Dict{String, Vector{UInt8}}(\"visible\" => [0x84, 0xa8, 0x70, 0x72, 0x6f, 0x70, 0x65, 0x72, 0x74, 0x79  …  0x70, 0x61, 0x74, 0x68, 0xa5, 0x2f, 0x47, 0x72, 0x69, 0x64]), nothing, Dict{String, MeshCat.SceneTrees.SceneNode}()), \"meshcat\" => MeshCat.SceneTrees.SceneNode(nothing, nothing, Dict{String, Vector{UInt8}}(), nothing, Dict{String, MeshCat.SceneTrees.SceneNode}(\"floor\" => MeshCat.SceneTrees.SceneNode(UInt8[0x83, 0xa6, 0x6f, 0x62, 0x6a, 0x65, 0x63, 0x74, 0x84, 0xaa  …  0x68, 0x63, 0x61, 0x74, 0x2f, 0x66, 0x6c, 0x6f, 0x6f, 0x72], UInt8[0x83, 0xa6, 0x6d, 0x61, 0x74, 0x72, 0x69, 0x78, 0xc7, 0x40  …  0x68, 0x63, 0x61, 0x74, 0x2f, 0x66, 0x6c, 0x6f, 0x6f, 0x72], Dict{String, Vector{UInt8}}(), nothing, Dict{String, MeshCat.SceneTrees.SceneNode}()), \"robot\" => MeshCat.SceneTrees.SceneNode(nothing, nothing, Dict{String, Vector{UInt8}}(), nothing, Dict{String, MeshCat.SceneTrees.SceneNode}(\"bodies\" => MeshCat.SceneTrees.SceneNode(nothing, nothing, Dict{String, Vector{UInt8}}(), nothing, Dict{String, MeshCat.SceneTrees.SceneNode}(\"body_mU3K__id_1\" => MeshCat.SceneTrees.SceneNode(UInt8[0x83, 0xa6, 0x6f, 0x62, 0x6a, 0x65, 0x63, 0x74, 0x84, 0xaa  …  0x6d, 0x55, 0x33, 0x4b, 0x5f, 0x5f, 0x69, 0x64, 0x5f, 0x31], nothing, Dict{String, Vector{UInt8}}(), nothing, Dict{String, MeshCat.SceneTrees.SceneNode}()))))))), \"Lights\" => MeshCat.SceneTrees.SceneNode(nothing, nothing, Dict{String, Vector{UInt8}}(), nothing, Dict{String, MeshCat.SceneTrees.SceneNode}(\"PointLightPositiveX\" => MeshCat.SceneTrees.SceneNode(nothing, nothing, Dict{String, Vector{UInt8}}(), nothing, Dict{String, MeshCat.SceneTrees.SceneNode}(\"<object>\" => MeshCat.SceneTrees.SceneNode(nothing, nothing, Dict{String, Vector{UInt8}}(\"intensity\" => [0x84, 0xa8, 0x70, 0x72, 0x6f, 0x70, 0x65, 0x72, 0x74, 0x79  …  0x58, 0x2f, 0x3c, 0x6f, 0x62, 0x6a, 0x65, 0x63, 0x74, 0x3e], \"castShadow\" => [0x84, 0xa8, 0x70, 0x72, 0x6f, 0x70, 0x65, 0x72, 0x74, 0x79  …  0x58, 0x2f, 0x3c, 0x6f, 0x62, 0x6a, 0x65, 0x63, 0x74, 0x3e]), nothing, Dict{String, MeshCat.SceneTrees.SceneNode}()))), \"AmbientLight\" => MeshCat.SceneTrees.SceneNode(nothing, nothing, Dict{String, Vector{UInt8}}(), nothing, Dict{String, MeshCat.SceneTrees.SceneNode}(\"<object>\" => MeshCat.SceneTrees.SceneNode(nothing, nothing, Dict{String, Vector{UInt8}}(\"intensity\" => [0x84, 0xa8, 0x70, 0x72, 0x6f, 0x70, 0x65, 0x72, 0x74, 0x79  …  0x74, 0x2f, 0x3c, 0x6f, 0x62, 0x6a, 0x65, 0x63, 0x74, 0x3e]), nothing, Dict{String, MeshCat.SceneTrees.SceneNode}()))), \"FillLight\" => MeshCat.SceneTrees.SceneNode(nothing, nothing, Dict{String, Vector{UInt8}}(), nothing, Dict{String, MeshCat.SceneTrees.SceneNode}(\"<object>\" => MeshCat.SceneTrees.SceneNode(nothing, nothing, Dict{String, Vector{UInt8}}(\"intensity\" => [0x84, 0xa8, 0x70, 0x72, 0x6f, 0x70, 0x65, 0x72, 0x74, 0x79  …  0x74, 0x2f, 0x3c, 0x6f, 0x62, 0x6a, 0x65, 0x63, 0x74, 0x3e]), nothing, Dict{String, MeshCat.SceneTrees.SceneNode}()))))), \"Axes\" => MeshCat.SceneTrees.SceneNode(nothing, nothing, Dict{String, Vector{UInt8}}(\"visible\" => [0x84, 0xa8, 0x70, 0x72, 0x6f, 0x70, 0x65, 0x72, 0x74, 0x79  …  0x70, 0x61, 0x74, 0x68, 0xa5, 0x2f, 0x41, 0x78, 0x65, 0x73]), nothing, Dict{String, MeshCat.SceneTrees.SceneNode}()))), Set{HTTP.WebSockets.WebSocket}(), ip\"127.0.0.1\", 8726, HTTP.Servers.Server{HTTP.Servers.Listener{Nothing, Sockets.TCPServer}}(HTTP.Servers.Listener{Nothing, Sockets.TCPServer}(Sockets.InetAddr{Sockets.IPv4}(ip\"127.0.0.1\", 8726), \"127.0.0.1\", \"8726\", nothing, Sockets.TCPServer(Base.Libc.WindowsRawSocket(0x0000000000000e30) active)), nothing, Set{HTTP.Connections.Connection}(), Task (runnable) @0x00000202607acf90)))"
      ]
     },
     "metadata": {},
     "output_type": "display_data"
    }
   ],
   "source": [
    "# run policy\n",
    "mechanism = get_mechanism()\n",
    "reset_mechanism!(mechanism)\n",
    "\n",
    "x_des = [-2.0,0.0]\n",
    "function controller!(mechanism, k)\n",
    "    x = get_minimal_state(mechanism)\n",
    "    u = [model(SA_F32[x...;x_des[1]])*2]\n",
    "    clamp!(u,-2,2)\n",
    "    set_input!(mechanism, u)\n",
    "end\n",
    "\n",
    "storage = simulate!(mechanism, 5.0, controller!, record=true)\n",
    "vis = visualize(mechanism, storage)\n",
    "render(vis)"
   ]
  },
  {
   "cell_type": "code",
   "execution_count": 79,
   "id": "4db1f8ba",
   "metadata": {},
   "outputs": [
    {
     "data": {
      "image/png": "[encoded data removed]",
      "image/svg+xml": [
       "<?xml version=\"1.0\" encoding=\"utf-8\"?>\n",
       "<svg xmlns=\"http://www.w3.org/2000/svg\" xmlns:xlink=\"http://www.w3.org/1999/xlink\" width=\"600\" height=\"400\" viewBox=\"0 0 2400 1600\">\n",
       "<defs>\n",
       "  <clipPath id=\"clip060\">\n",
       "    <rect x=\"0\" y=\"0\" width=\"2400\" height=\"1600\"/>\n",
       "  </clipPath>\n",
       "</defs>\n",
       "<path clip-path=\"url(#clip060)\" d=\"M0 1600 L2400 1600 L2400 0 L0 0  Z\" fill=\"#ffffff\" fill-rule=\"evenodd\" fill-opacity=\"1\"/>\n",
       "<defs>\n",
       "  <clipPath id=\"clip061\">\n",
       "    <rect x=\"480\" y=\"0\" width=\"1681\" height=\"1600\"/>\n",
       "  </clipPath>\n",
       "</defs>\n",
       "<path clip-path=\"url(#clip060)\" d=\"M193.936 1486.45 L2352.76 1486.45 L2352.76 47.2441 L193.936 47.2441  Z\" fill=\"#ffffff\" fill-rule=\"evenodd\" fill-opacity=\"1\"/>\n",
       "<defs>\n",
       "  <clipPath id=\"clip062\">\n",
       "    <rect x=\"193\" y=\"47\" width=\"2160\" height=\"1440\"/>\n",
       "  </clipPath>\n",
       "</defs>\n",
       "<polyline clip-path=\"url(#clip062)\" style=\"stroke:#000000; stroke-linecap:round; stroke-linejoin:round; stroke-width:2; stroke-opacity:0.1; fill:none\" points=\"594.472,1486.45 594.472,47.2441 \"/>\n",
       "<polyline clip-path=\"url(#clip062)\" style=\"stroke:#000000; stroke-linecap:round; stroke-linejoin:round; stroke-width:2; stroke-opacity:0.1; fill:none\" points=\"1018.77,1486.45 1018.77,47.2441 \"/>\n",
       "<polyline clip-path=\"url(#clip062)\" style=\"stroke:#000000; stroke-linecap:round; stroke-linejoin:round; stroke-width:2; stroke-opacity:0.1; fill:none\" points=\"1443.06,1486.45 1443.06,47.2441 \"/>\n",
       "<polyline clip-path=\"url(#clip062)\" style=\"stroke:#000000; stroke-linecap:round; stroke-linejoin:round; stroke-width:2; stroke-opacity:0.1; fill:none\" points=\"1867.36,1486.45 1867.36,47.2441 \"/>\n",
       "<polyline clip-path=\"url(#clip062)\" style=\"stroke:#000000; stroke-linecap:round; stroke-linejoin:round; stroke-width:2; stroke-opacity:0.1; fill:none\" points=\"2291.66,1486.45 2291.66,47.2441 \"/>\n",
       "<polyline clip-path=\"url(#clip060)\" style=\"stroke:#000000; stroke-linecap:round; stroke-linejoin:round; stroke-width:4; stroke-opacity:1; fill:none\" points=\"193.936,1486.45 2352.76,1486.45 \"/>\n",
       "<polyline clip-path=\"url(#clip060)\" style=\"stroke:#000000; stroke-linecap:round; stroke-linejoin:round; stroke-width:4; stroke-opacity:1; fill:none\" points=\"594.472,1486.45 594.472,1467.55 \"/>\n",
       "<polyline clip-path=\"url(#clip060)\" style=\"stroke:#000000; stroke-linecap:round; stroke-linejoin:round; stroke-width:4; stroke-opacity:1; fill:none\" points=\"1018.77,1486.45 1018.77,1467.55 \"/>\n",
       "<polyline clip-path=\"url(#clip060)\" style=\"stroke:#000000; stroke-linecap:round; stroke-linejoin:round; stroke-width:4; stroke-opacity:1; fill:none\" points=\"1443.06,1486.45 1443.06,1467.55 \"/>\n",
       "<polyline clip-path=\"url(#clip060)\" style=\"stroke:#000000; stroke-linecap:round; stroke-linejoin:round; stroke-width:4; stroke-opacity:1; fill:none\" points=\"1867.36,1486.45 1867.36,1467.55 \"/>\n",
       "<polyline clip-path=\"url(#clip060)\" style=\"stroke:#000000; stroke-linecap:round; stroke-linejoin:round; stroke-width:4; stroke-opacity:1; fill:none\" points=\"2291.66,1486.45 2291.66,1467.55 \"/>\n",
       "<path clip-path=\"url(#clip060)\" d=\"M584.75 1514.29 L603.106 1514.29 L603.106 1518.22 L589.032 1518.22 L589.032 1526.7 Q590.05 1526.35 591.069 1526.19 Q592.088 1526 593.106 1526 Q598.893 1526 602.273 1529.17 Q605.652 1532.34 605.652 1537.76 Q605.652 1543.34 602.18 1546.44 Q598.708 1549.52 592.388 1549.52 Q590.213 1549.52 587.944 1549.15 Q585.699 1548.78 583.291 1548.04 L583.291 1543.34 Q585.375 1544.47 587.597 1545.03 Q589.819 1545.58 592.296 1545.58 Q596.3 1545.58 598.638 1543.48 Q600.976 1541.37 600.976 1537.76 Q600.976 1534.15 598.638 1532.04 Q596.3 1529.94 592.296 1529.94 Q590.421 1529.94 588.546 1530.35 Q586.694 1530.77 584.75 1531.65 L584.75 1514.29 Z\" fill=\"#000000\" fill-rule=\"nonzero\" fill-opacity=\"1\" /><path clip-path=\"url(#clip060)\" d=\"M993.456 1544.91 L1001.09 1544.91 L1001.09 1518.55 L992.784 1520.21 L992.784 1515.95 L1001.05 1514.29 L1005.72 1514.29 L1005.72 1544.91 L1013.36 1544.91 L1013.36 1548.85 L993.456 1548.85 L993.456 1544.91 Z\" fill=\"#000000\" fill-rule=\"nonzero\" fill-opacity=\"1\" /><path clip-path=\"url(#clip060)\" d=\"M1032.81 1517.37 Q1029.2 1517.37 1027.37 1520.93 Q1025.56 1524.47 1025.56 1531.6 Q1025.56 1538.71 1027.37 1542.27 Q1029.2 1545.82 1032.81 1545.82 Q1036.44 1545.82 1038.25 1542.27 Q1040.08 1538.71 1040.08 1531.6 Q1040.08 1524.47 1038.25 1520.93 Q1036.44 1517.37 1032.81 1517.37 M1032.81 1513.66 Q1038.62 1513.66 1041.67 1518.27 Q1044.75 1522.85 1044.75 1531.6 Q1044.75 1540.33 1041.67 1544.94 Q1038.62 1549.52 1032.81 1549.52 Q1027 1549.52 1023.92 1544.94 Q1020.86 1540.33 1020.86 1531.6 Q1020.86 1522.85 1023.92 1518.27 Q1027 1513.66 1032.81 1513.66 Z\" fill=\"#000000\" fill-rule=\"nonzero\" fill-opacity=\"1\" /><path clip-path=\"url(#clip060)\" d=\"M1418.25 1544.91 L1425.89 1544.91 L1425.89 1518.55 L1417.58 1520.21 L1417.58 1515.95 L1425.84 1514.29 L1430.52 1514.29 L1430.52 1544.91 L1438.16 1544.91 L1438.16 1548.85 L1418.25 1548.85 L1418.25 1544.91 Z\" fill=\"#000000\" fill-rule=\"nonzero\" fill-opacity=\"1\" /><path clip-path=\"url(#clip060)\" d=\"M1447.65 1514.29 L1466 1514.29 L1466 1518.22 L1451.93 1518.22 L1451.93 1526.7 Q1452.95 1526.35 1453.97 1526.19 Q1454.99 1526 1456 1526 Q1461.79 1526 1465.17 1529.17 Q1468.55 1532.34 1468.55 1537.76 Q1468.55 1543.34 1465.08 1546.44 Q1461.61 1549.52 1455.29 1549.52 Q1453.11 1549.52 1450.84 1549.15 Q1448.6 1548.78 1446.19 1548.04 L1446.19 1543.34 Q1448.27 1544.47 1450.5 1545.03 Q1452.72 1545.58 1455.19 1545.58 Q1459.2 1545.58 1461.54 1543.48 Q1463.87 1541.37 1463.87 1537.76 Q1463.87 1534.15 1461.54 1532.04 Q1459.2 1529.94 1455.19 1529.94 Q1453.32 1529.94 1451.44 1530.35 Q1449.59 1530.77 1447.65 1531.65 L1447.65 1514.29 Z\" fill=\"#000000\" fill-rule=\"nonzero\" fill-opacity=\"1\" /><path clip-path=\"url(#clip060)\" d=\"M1846.13 1544.91 L1862.45 1544.91 L1862.45 1548.85 L1840.51 1548.85 L1840.51 1544.91 Q1843.17 1542.16 1847.75 1537.53 Q1852.36 1532.88 1853.54 1531.53 Q1855.79 1529.01 1856.67 1527.27 Q1857.57 1525.51 1857.57 1523.82 Q1857.57 1521.07 1855.62 1519.33 Q1853.7 1517.6 1850.6 1517.6 Q1848.4 1517.6 1845.95 1518.36 Q1843.52 1519.13 1840.74 1520.68 L1840.74 1515.95 Q1843.56 1514.82 1846.02 1514.24 Q1848.47 1513.66 1850.51 1513.66 Q1855.88 1513.66 1859.07 1516.35 Q1862.27 1519.03 1862.27 1523.52 Q1862.27 1525.65 1861.46 1527.57 Q1860.67 1529.47 1858.56 1532.07 Q1857.99 1532.74 1854.88 1535.95 Q1851.78 1539.15 1846.13 1544.91 Z\" fill=\"#000000\" fill-rule=\"nonzero\" fill-opacity=\"1\" /><path clip-path=\"url(#clip060)\" d=\"M1882.27 1517.37 Q1878.66 1517.37 1876.83 1520.93 Q1875.02 1524.47 1875.02 1531.6 Q1875.02 1538.71 1876.83 1542.27 Q1878.66 1545.82 1882.27 1545.82 Q1885.9 1545.82 1887.71 1542.27 Q1889.54 1538.71 1889.54 1531.6 Q1889.54 1524.47 1887.71 1520.93 Q1885.9 1517.37 1882.27 1517.37 M1882.27 1513.66 Q1888.08 1513.66 1891.13 1518.27 Q1894.21 1522.85 1894.21 1531.6 Q1894.21 1540.33 1891.13 1544.94 Q1888.08 1549.52 1882.27 1549.52 Q1876.46 1549.52 1873.38 1544.94 Q1870.32 1540.33 1870.32 1531.6 Q1870.32 1522.85 1873.38 1518.27 Q1876.46 1513.66 1882.27 1513.66 Z\" fill=\"#000000\" fill-rule=\"nonzero\" fill-opacity=\"1\" /><path clip-path=\"url(#clip060)\" d=\"M2270.93 1544.91 L2287.25 1544.91 L2287.25 1548.85 L2265.3 1548.85 L2265.3 1544.91 Q2267.97 1542.16 2272.55 1537.53 Q2277.15 1532.88 2278.34 1531.53 Q2280.58 1529.01 2281.46 1527.27 Q2282.36 1525.51 2282.36 1523.82 Q2282.36 1521.07 2280.42 1519.33 Q2278.5 1517.6 2275.4 1517.6 Q2273.2 1517.6 2270.74 1518.36 Q2268.31 1519.13 2265.53 1520.68 L2265.53 1515.95 Q2268.36 1514.82 2270.81 1514.24 Q2273.27 1513.66 2275.3 1513.66 Q2280.67 1513.66 2283.87 1516.35 Q2287.06 1519.03 2287.06 1523.52 Q2287.06 1525.65 2286.25 1527.57 Q2285.47 1529.47 2283.36 1532.07 Q2282.78 1532.74 2279.68 1535.95 Q2276.58 1539.15 2270.93 1544.91 Z\" fill=\"#000000\" fill-rule=\"nonzero\" fill-opacity=\"1\" /><path clip-path=\"url(#clip060)\" d=\"M2297.11 1514.29 L2315.46 1514.29 L2315.46 1518.22 L2301.39 1518.22 L2301.39 1526.7 Q2302.41 1526.35 2303.43 1526.19 Q2304.45 1526 2305.47 1526 Q2311.25 1526 2314.63 1529.17 Q2318.01 1532.34 2318.01 1537.76 Q2318.01 1543.34 2314.54 1546.44 Q2311.07 1549.52 2304.75 1549.52 Q2302.57 1549.52 2300.3 1549.15 Q2298.06 1548.78 2295.65 1548.04 L2295.65 1543.34 Q2297.73 1544.47 2299.96 1545.03 Q2302.18 1545.58 2304.65 1545.58 Q2308.66 1545.58 2311 1543.48 Q2313.34 1541.37 2313.34 1537.76 Q2313.34 1534.15 2311 1532.04 Q2308.66 1529.94 2304.65 1529.94 Q2302.78 1529.94 2300.9 1530.35 Q2299.05 1530.77 2297.11 1531.65 L2297.11 1514.29 Z\" fill=\"#000000\" fill-rule=\"nonzero\" fill-opacity=\"1\" /><polyline clip-path=\"url(#clip062)\" style=\"stroke:#000000; stroke-linecap:round; stroke-linejoin:round; stroke-width:2; stroke-opacity:0.1; fill:none\" points=\"193.936,1428.44 2352.76,1428.44 \"/>\n",
       "<polyline clip-path=\"url(#clip062)\" style=\"stroke:#000000; stroke-linecap:round; stroke-linejoin:round; stroke-width:2; stroke-opacity:0.1; fill:none\" points=\"193.936,1151.66 2352.76,1151.66 \"/>\n",
       "<polyline clip-path=\"url(#clip062)\" style=\"stroke:#000000; stroke-linecap:round; stroke-linejoin:round; stroke-width:2; stroke-opacity:0.1; fill:none\" points=\"193.936,874.885 2352.76,874.885 \"/>\n",
       "<polyline clip-path=\"url(#clip062)\" style=\"stroke:#000000; stroke-linecap:round; stroke-linejoin:round; stroke-width:2; stroke-opacity:0.1; fill:none\" points=\"193.936,598.106 2352.76,598.106 \"/>\n",
       "<polyline clip-path=\"url(#clip062)\" style=\"stroke:#000000; stroke-linecap:round; stroke-linejoin:round; stroke-width:2; stroke-opacity:0.1; fill:none\" points=\"193.936,321.327 2352.76,321.327 \"/>\n",
       "<polyline clip-path=\"url(#clip060)\" style=\"stroke:#000000; stroke-linecap:round; stroke-linejoin:round; stroke-width:4; stroke-opacity:1; fill:none\" points=\"193.936,1486.45 193.936,47.2441 \"/>\n",
       "<polyline clip-path=\"url(#clip060)\" style=\"stroke:#000000; stroke-linecap:round; stroke-linejoin:round; stroke-width:4; stroke-opacity:1; fill:none\" points=\"193.936,1428.44 212.834,1428.44 \"/>\n",
       "<polyline clip-path=\"url(#clip060)\" style=\"stroke:#000000; stroke-linecap:round; stroke-linejoin:round; stroke-width:4; stroke-opacity:1; fill:none\" points=\"193.936,1151.66 212.834,1151.66 \"/>\n",
       "<polyline clip-path=\"url(#clip060)\" style=\"stroke:#000000; stroke-linecap:round; stroke-linejoin:round; stroke-width:4; stroke-opacity:1; fill:none\" points=\"193.936,874.885 212.834,874.885 \"/>\n",
       "<polyline clip-path=\"url(#clip060)\" style=\"stroke:#000000; stroke-linecap:round; stroke-linejoin:round; stroke-width:4; stroke-opacity:1; fill:none\" points=\"193.936,598.106 212.834,598.106 \"/>\n",
       "<polyline clip-path=\"url(#clip060)\" style=\"stroke:#000000; stroke-linecap:round; stroke-linejoin:round; stroke-width:4; stroke-opacity:1; fill:none\" points=\"193.936,321.327 212.834,321.327 \"/>\n",
       "<path clip-path=\"url(#clip060)\" d=\"M50.9921 1428.89 L80.6679 1428.89 L80.6679 1432.83 L50.9921 1432.83 L50.9921 1428.89 Z\" fill=\"#000000\" fill-rule=\"nonzero\" fill-opacity=\"1\" /><path clip-path=\"url(#clip060)\" d=\"M94.7882 1441.79 L111.108 1441.79 L111.108 1445.72 L89.1632 1445.72 L89.1632 1441.79 Q91.8252 1439.03 96.4085 1434.4 Q101.015 1429.75 102.196 1428.41 Q104.441 1425.89 105.321 1424.15 Q106.223 1422.39 106.223 1420.7 Q106.223 1417.95 104.279 1416.21 Q102.358 1414.47 99.2558 1414.47 Q97.0567 1414.47 94.603 1415.24 Q92.1725 1416 89.3947 1417.55 L89.3947 1412.83 Q92.2188 1411.7 94.6724 1411.12 Q97.1261 1410.54 99.1632 1410.54 Q104.534 1410.54 107.728 1413.22 Q110.922 1415.91 110.922 1420.4 Q110.922 1422.53 110.112 1424.45 Q109.325 1426.35 107.219 1428.94 Q106.64 1429.61 103.538 1432.83 Q100.436 1436.02 94.7882 1441.79 Z\" fill=\"#000000\" fill-rule=\"nonzero\" fill-opacity=\"1\" /><path clip-path=\"url(#clip060)\" d=\"M120.922 1439.84 L125.807 1439.84 L125.807 1445.72 L120.922 1445.72 L120.922 1439.84 Z\" fill=\"#000000\" fill-rule=\"nonzero\" fill-opacity=\"1\" /><path clip-path=\"url(#clip060)\" d=\"M145.992 1414.24 Q142.381 1414.24 140.552 1417.81 Q138.746 1421.35 138.746 1428.48 Q138.746 1435.58 140.552 1439.15 Q142.381 1442.69 145.992 1442.69 Q149.626 1442.69 151.431 1439.15 Q153.26 1435.58 153.26 1428.48 Q153.26 1421.35 151.431 1417.81 Q149.626 1414.24 145.992 1414.24 M145.992 1410.54 Q151.802 1410.54 154.857 1415.14 Q157.936 1419.73 157.936 1428.48 Q157.936 1437.2 154.857 1441.81 Q151.802 1446.39 145.992 1446.39 Q140.181 1446.39 137.103 1441.81 Q134.047 1437.2 134.047 1428.48 Q134.047 1419.73 137.103 1415.14 Q140.181 1410.54 145.992 1410.54 Z\" fill=\"#000000\" fill-rule=\"nonzero\" fill-opacity=\"1\" /><path clip-path=\"url(#clip060)\" d=\"M51.9875 1152.12 L81.6633 1152.12 L81.6633 1156.05 L51.9875 1156.05 L51.9875 1152.12 Z\" fill=\"#000000\" fill-rule=\"nonzero\" fill-opacity=\"1\" /><path clip-path=\"url(#clip060)\" d=\"M92.566 1165.01 L100.205 1165.01 L100.205 1138.64 L91.8947 1140.31 L91.8947 1136.05 L100.159 1134.38 L104.834 1134.38 L104.834 1165.01 L112.473 1165.01 L112.473 1168.94 L92.566 1168.94 L92.566 1165.01 Z\" fill=\"#000000\" fill-rule=\"nonzero\" fill-opacity=\"1\" /><path clip-path=\"url(#clip060)\" d=\"M121.918 1163.06 L126.802 1163.06 L126.802 1168.94 L121.918 1168.94 L121.918 1163.06 Z\" fill=\"#000000\" fill-rule=\"nonzero\" fill-opacity=\"1\" /><path clip-path=\"url(#clip060)\" d=\"M137.033 1134.38 L155.39 1134.38 L155.39 1138.32 L141.316 1138.32 L141.316 1146.79 Q142.334 1146.44 143.353 1146.28 Q144.371 1146.1 145.39 1146.1 Q151.177 1146.1 154.556 1149.27 Q157.936 1152.44 157.936 1157.86 Q157.936 1163.43 154.464 1166.54 Q150.992 1169.62 144.672 1169.62 Q142.496 1169.62 140.228 1169.25 Q137.982 1168.87 135.575 1168.13 L135.575 1163.43 Q137.658 1164.57 139.881 1165.12 Q142.103 1165.68 144.58 1165.68 Q148.584 1165.68 150.922 1163.57 Q153.26 1161.47 153.26 1157.86 Q153.26 1154.25 150.922 1152.14 Q148.584 1150.03 144.58 1150.03 Q142.705 1150.03 140.83 1150.45 Q138.978 1150.87 137.033 1151.75 L137.033 1134.38 Z\" fill=\"#000000\" fill-rule=\"nonzero\" fill-opacity=\"1\" /><path clip-path=\"url(#clip060)\" d=\"M50.9921 875.337 L80.6679 875.337 L80.6679 879.272 L50.9921 879.272 L50.9921 875.337 Z\" fill=\"#000000\" fill-rule=\"nonzero\" fill-opacity=\"1\" /><path clip-path=\"url(#clip060)\" d=\"M91.5706 888.23 L99.2095 888.23 L99.2095 861.864 L90.8993 863.531 L90.8993 859.272 L99.1632 857.605 L103.839 857.605 L103.839 888.23 L111.478 888.23 L111.478 892.165 L91.5706 892.165 L91.5706 888.23 Z\" fill=\"#000000\" fill-rule=\"nonzero\" fill-opacity=\"1\" /><path clip-path=\"url(#clip060)\" d=\"M120.922 886.286 L125.807 886.286 L125.807 892.165 L120.922 892.165 L120.922 886.286 Z\" fill=\"#000000\" fill-rule=\"nonzero\" fill-opacity=\"1\" /><path clip-path=\"url(#clip060)\" d=\"M145.992 860.684 Q142.381 860.684 140.552 864.249 Q138.746 867.79 138.746 874.92 Q138.746 882.026 140.552 885.591 Q142.381 889.133 145.992 889.133 Q149.626 889.133 151.431 885.591 Q153.26 882.026 153.26 874.92 Q153.26 867.79 151.431 864.249 Q149.626 860.684 145.992 860.684 M145.992 856.98 Q151.802 856.98 154.857 861.587 Q157.936 866.17 157.936 874.92 Q157.936 883.647 154.857 888.253 Q151.802 892.836 145.992 892.836 Q140.181 892.836 137.103 888.253 Q134.047 883.647 134.047 874.92 Q134.047 866.17 137.103 861.587 Q140.181 856.98 145.992 856.98 Z\" fill=\"#000000\" fill-rule=\"nonzero\" fill-opacity=\"1\" /><path clip-path=\"url(#clip060)\" d=\"M51.9875 598.558 L81.6633 598.558 L81.6633 602.493 L51.9875 602.493 L51.9875 598.558 Z\" fill=\"#000000\" fill-rule=\"nonzero\" fill-opacity=\"1\" /><path clip-path=\"url(#clip060)\" d=\"M101.756 583.905 Q98.1447 583.905 96.316 587.47 Q94.5104 591.011 94.5104 598.141 Q94.5104 605.247 96.316 608.812 Q98.1447 612.354 101.756 612.354 Q105.39 612.354 107.196 608.812 Q109.024 605.247 109.024 598.141 Q109.024 591.011 107.196 587.47 Q105.39 583.905 101.756 583.905 M101.756 580.201 Q107.566 580.201 110.621 584.808 Q113.7 589.391 113.7 598.141 Q113.7 606.868 110.621 611.474 Q107.566 616.058 101.756 616.058 Q95.9456 616.058 92.8669 611.474 Q89.8114 606.868 89.8114 598.141 Q89.8114 589.391 92.8669 584.808 Q95.9456 580.201 101.756 580.201 Z\" fill=\"#000000\" fill-rule=\"nonzero\" fill-opacity=\"1\" /><path clip-path=\"url(#clip060)\" d=\"M121.918 609.507 L126.802 609.507 L126.802 615.386 L121.918 615.386 L121.918 609.507 Z\" fill=\"#000000\" fill-rule=\"nonzero\" fill-opacity=\"1\" /><path clip-path=\"url(#clip060)\" d=\"M137.033 580.826 L155.39 580.826 L155.39 584.761 L141.316 584.761 L141.316 593.234 Q142.334 592.886 143.353 592.724 Q144.371 592.539 145.39 592.539 Q151.177 592.539 154.556 595.71 Q157.936 598.882 157.936 604.298 Q157.936 609.877 154.464 612.979 Q150.992 616.058 144.672 616.058 Q142.496 616.058 140.228 615.687 Q137.982 615.317 135.575 614.576 L135.575 609.877 Q137.658 611.011 139.881 611.567 Q142.103 612.122 144.58 612.122 Q148.584 612.122 150.922 610.016 Q153.26 607.909 153.26 604.298 Q153.26 600.687 150.922 598.581 Q148.584 596.474 144.58 596.474 Q142.705 596.474 140.83 596.891 Q138.978 597.308 137.033 598.187 L137.033 580.826 Z\" fill=\"#000000\" fill-rule=\"nonzero\" fill-opacity=\"1\" /><path clip-path=\"url(#clip060)\" d=\"M100.76 307.126 Q97.1493 307.126 95.3206 310.691 Q93.515 314.232 93.515 321.362 Q93.515 328.469 95.3206 332.033 Q97.1493 335.575 100.76 335.575 Q104.395 335.575 106.2 332.033 Q108.029 328.469 108.029 321.362 Q108.029 314.232 106.2 310.691 Q104.395 307.126 100.76 307.126 M100.76 303.422 Q106.571 303.422 109.626 308.029 Q112.705 312.612 112.705 321.362 Q112.705 330.089 109.626 334.695 Q106.571 339.279 100.76 339.279 Q94.9502 339.279 91.8715 334.695 Q88.816 330.089 88.816 321.362 Q88.816 312.612 91.8715 308.029 Q94.9502 303.422 100.76 303.422 Z\" fill=\"#000000\" fill-rule=\"nonzero\" fill-opacity=\"1\" /><path clip-path=\"url(#clip060)\" d=\"M120.922 332.728 L125.807 332.728 L125.807 338.607 L120.922 338.607 L120.922 332.728 Z\" fill=\"#000000\" fill-rule=\"nonzero\" fill-opacity=\"1\" /><path clip-path=\"url(#clip060)\" d=\"M145.992 307.126 Q142.381 307.126 140.552 310.691 Q138.746 314.232 138.746 321.362 Q138.746 328.469 140.552 332.033 Q142.381 335.575 145.992 335.575 Q149.626 335.575 151.431 332.033 Q153.26 328.469 153.26 321.362 Q153.26 314.232 151.431 310.691 Q149.626 307.126 145.992 307.126 M145.992 303.422 Q151.802 303.422 154.857 308.029 Q157.936 312.612 157.936 321.362 Q157.936 330.089 154.857 334.695 Q151.802 339.279 145.992 339.279 Q140.181 339.279 137.103 334.695 Q134.047 330.089 134.047 321.362 Q134.047 312.612 137.103 308.029 Q140.181 303.422 145.992 303.422 Z\" fill=\"#000000\" fill-rule=\"nonzero\" fill-opacity=\"1\" /><polyline clip-path=\"url(#clip062)\" style=\"stroke:#009af9; stroke-linecap:round; stroke-linejoin:round; stroke-width:4; stroke-opacity:1; fill:none\" points=\"255.035,321.327 339.894,365.612 424.753,454.181 509.612,585.264 594.472,731.368 679.331,874.796 764.19,1005.14 849.05,1117.22 933.909,1209.36 1018.77,1282.17 1103.63,1337.56 1188.49,1378.06 1273.35,1406.4 1358.21,1425.16 1443.06,1436.68 1527.92,1442.93 1612.78,1445.53 1697.64,1445.72 1782.5,1444.45 1867.36,1442.41 1952.22,1440.06 2037.08,1437.73 2121.94,1435.59 2206.8,1433.73 2291.66,1432.19 \"/>\n",
       "<polyline clip-path=\"url(#clip062)\" style=\"stroke:#e26f46; stroke-linecap:round; stroke-linejoin:round; stroke-width:4; stroke-opacity:1; fill:none\" points=\"255.035,321.327 339.894,320.55 424.753,318.994 509.612,316.66 594.472,313.549 679.331,309.66 764.19,304.993 849.05,299.548 933.909,293.325 1018.77,286.325 1103.63,278.546 1188.49,269.99 1273.35,260.656 1358.21,250.544 1443.06,239.654 1527.92,227.987 1612.78,215.542 1697.64,202.318 1782.5,188.317 1867.36,173.538 1952.22,157.982 2037.08,141.647 2121.94,124.535 2206.8,106.644 2291.66,87.9763 \"/>\n",
       "<path clip-path=\"url(#clip060)\" d=\"M265.897 1438.47 L534.209 1438.47 L534.209 1282.95 L265.897 1282.95  Z\" fill=\"#ffffff\" fill-rule=\"evenodd\" fill-opacity=\"1\"/>\n",
       "<polyline clip-path=\"url(#clip060)\" style=\"stroke:#000000; stroke-linecap:round; stroke-linejoin:round; stroke-width:4; stroke-opacity:1; fill:none\" points=\"265.897,1438.47 534.209,1438.47 534.209,1282.95 265.897,1282.95 265.897,1438.47 \"/>\n",
       "<polyline clip-path=\"url(#clip060)\" style=\"stroke:#009af9; stroke-linecap:round; stroke-linejoin:round; stroke-width:4; stroke-opacity:1; fill:none\" points=\"289.884,1334.79 433.805,1334.79 \"/>\n",
       "<path clip-path=\"url(#clip060)\" d=\"M471.634 1354.48 Q469.829 1359.11 468.116 1360.52 Q466.403 1361.94 463.532 1361.94 L460.13 1361.94 L460.13 1358.37 L462.63 1358.37 Q464.389 1358.37 465.361 1357.54 Q466.333 1356.7 467.514 1353.6 L468.278 1351.66 L457.792 1326.15 L462.306 1326.15 L470.407 1346.43 L478.509 1326.15 L483.023 1326.15 L471.634 1354.48 Z\" fill=\"#000000\" fill-rule=\"nonzero\" fill-opacity=\"1\" /><path clip-path=\"url(#clip060)\" d=\"M490.315 1348.14 L497.954 1348.14 L497.954 1321.77 L489.643 1323.44 L489.643 1319.18 L497.907 1317.51 L502.583 1317.51 L502.583 1348.14 L510.222 1348.14 L510.222 1352.07 L490.315 1352.07 L490.315 1348.14 Z\" fill=\"#000000\" fill-rule=\"nonzero\" fill-opacity=\"1\" /><polyline clip-path=\"url(#clip060)\" style=\"stroke:#e26f46; stroke-linecap:round; stroke-linejoin:round; stroke-width:4; stroke-opacity:1; fill:none\" points=\"289.884,1386.63 433.805,1386.63 \"/>\n",
       "<path clip-path=\"url(#clip060)\" d=\"M471.634 1406.32 Q469.829 1410.95 468.116 1412.36 Q466.403 1413.78 463.532 1413.78 L460.13 1413.78 L460.13 1410.21 L462.63 1410.21 Q464.389 1410.21 465.361 1409.38 Q466.333 1408.54 467.514 1405.44 L468.278 1403.5 L457.792 1377.99 L462.306 1377.99 L470.407 1398.27 L478.509 1377.99 L483.023 1377.99 L471.634 1406.32 Z\" fill=\"#000000\" fill-rule=\"nonzero\" fill-opacity=\"1\" /><path clip-path=\"url(#clip060)\" d=\"M493.532 1399.98 L509.852 1399.98 L509.852 1403.91 L487.907 1403.91 L487.907 1399.98 Q490.569 1397.22 495.153 1392.6 Q499.759 1387.94 500.94 1386.6 Q503.185 1384.08 504.065 1382.34 Q504.967 1380.58 504.967 1378.89 Q504.967 1376.14 503.023 1374.4 Q501.102 1372.66 498 1372.66 Q495.801 1372.66 493.347 1373.43 Q490.917 1374.19 488.139 1375.74 L488.139 1371.02 Q490.963 1369.89 493.417 1369.31 Q495.87 1368.73 497.907 1368.73 Q503.278 1368.73 506.472 1371.41 Q509.666 1374.1 509.666 1378.59 Q509.666 1380.72 508.856 1382.64 Q508.069 1384.54 505.963 1387.13 Q505.384 1387.8 502.282 1391.02 Q499.18 1394.22 493.532 1399.98 Z\" fill=\"#000000\" fill-rule=\"nonzero\" fill-opacity=\"1\" /></svg>\n"
      ],
      "text/html": [
       "<?xml version=\"1.0\" encoding=\"utf-8\"?>\n",
       "<svg xmlns=\"http://www.w3.org/2000/svg\" xmlns:xlink=\"http://www.w3.org/1999/xlink\" width=\"600\" height=\"400\" viewBox=\"0 0 2400 1600\">\n",
       "<defs>\n",
       "  <clipPath id=\"clip110\">\n",
       "    <rect x=\"0\" y=\"0\" width=\"2400\" height=\"1600\"/>\n",
       "  </clipPath>\n",
       "</defs>\n",
       "<path clip-path=\"url(#clip110)\" d=\"M0 1600 L2400 1600 L2400 0 L0 0  Z\" fill=\"#ffffff\" fill-rule=\"evenodd\" fill-opacity=\"1\"/>\n",
       "<defs>\n",
       "  <clipPath id=\"clip111\">\n",
       "    <rect x=\"480\" y=\"0\" width=\"1681\" height=\"1600\"/>\n",
       "  </clipPath>\n",
       "</defs>\n",
       "<path clip-path=\"url(#clip110)\" d=\"M193.936 1486.45 L2352.76 1486.45 L2352.76 47.2441 L193.936 47.2441  Z\" fill=\"#ffffff\" fill-rule=\"evenodd\" fill-opacity=\"1\"/>\n",
       "<defs>\n",
       "  <clipPath id=\"clip112\">\n",
       "    <rect x=\"193\" y=\"47\" width=\"2160\" height=\"1440\"/>\n",
       "  </clipPath>\n",
       "</defs>\n",
       "<polyline clip-path=\"url(#clip112)\" style=\"stroke:#000000; stroke-linecap:round; stroke-linejoin:round; stroke-width:2; stroke-opacity:0.1; fill:none\" points=\"594.472,1486.45 594.472,47.2441 \"/>\n",
       "<polyline clip-path=\"url(#clip112)\" style=\"stroke:#000000; stroke-linecap:round; stroke-linejoin:round; stroke-width:2; stroke-opacity:0.1; fill:none\" points=\"1018.77,1486.45 1018.77,47.2441 \"/>\n",
       "<polyline clip-path=\"url(#clip112)\" style=\"stroke:#000000; stroke-linecap:round; stroke-linejoin:round; stroke-width:2; stroke-opacity:0.1; fill:none\" points=\"1443.06,1486.45 1443.06,47.2441 \"/>\n",
       "<polyline clip-path=\"url(#clip112)\" style=\"stroke:#000000; stroke-linecap:round; stroke-linejoin:round; stroke-width:2; stroke-opacity:0.1; fill:none\" points=\"1867.36,1486.45 1867.36,47.2441 \"/>\n",
       "<polyline clip-path=\"url(#clip112)\" style=\"stroke:#000000; stroke-linecap:round; stroke-linejoin:round; stroke-width:2; stroke-opacity:0.1; fill:none\" points=\"2291.66,1486.45 2291.66,47.2441 \"/>\n",
       "<polyline clip-path=\"url(#clip110)\" style=\"stroke:#000000; stroke-linecap:round; stroke-linejoin:round; stroke-width:4; stroke-opacity:1; fill:none\" points=\"193.936,1486.45 2352.76,1486.45 \"/>\n",
       "<polyline clip-path=\"url(#clip110)\" style=\"stroke:#000000; stroke-linecap:round; stroke-linejoin:round; stroke-width:4; stroke-opacity:1; fill:none\" points=\"594.472,1486.45 594.472,1467.55 \"/>\n",
       "<polyline clip-path=\"url(#clip110)\" style=\"stroke:#000000; stroke-linecap:round; stroke-linejoin:round; stroke-width:4; stroke-opacity:1; fill:none\" points=\"1018.77,1486.45 1018.77,1467.55 \"/>\n",
       "<polyline clip-path=\"url(#clip110)\" style=\"stroke:#000000; stroke-linecap:round; stroke-linejoin:round; stroke-width:4; stroke-opacity:1; fill:none\" points=\"1443.06,1486.45 1443.06,1467.55 \"/>\n",
       "<polyline clip-path=\"url(#clip110)\" style=\"stroke:#000000; stroke-linecap:round; stroke-linejoin:round; stroke-width:4; stroke-opacity:1; fill:none\" points=\"1867.36,1486.45 1867.36,1467.55 \"/>\n",
       "<polyline clip-path=\"url(#clip110)\" style=\"stroke:#000000; stroke-linecap:round; stroke-linejoin:round; stroke-width:4; stroke-opacity:1; fill:none\" points=\"2291.66,1486.45 2291.66,1467.55 \"/>\n",
       "<path clip-path=\"url(#clip110)\" d=\"M584.75 1514.29 L603.106 1514.29 L603.106 1518.22 L589.032 1518.22 L589.032 1526.7 Q590.05 1526.35 591.069 1526.19 Q592.088 1526 593.106 1526 Q598.893 1526 602.273 1529.17 Q605.652 1532.34 605.652 1537.76 Q605.652 1543.34 602.18 1546.44 Q598.708 1549.52 592.388 1549.52 Q590.213 1549.52 587.944 1549.15 Q585.699 1548.78 583.291 1548.04 L583.291 1543.34 Q585.375 1544.47 587.597 1545.03 Q589.819 1545.58 592.296 1545.58 Q596.3 1545.58 598.638 1543.48 Q600.976 1541.37 600.976 1537.76 Q600.976 1534.15 598.638 1532.04 Q596.3 1529.94 592.296 1529.94 Q590.421 1529.94 588.546 1530.35 Q586.694 1530.77 584.75 1531.65 L584.75 1514.29 Z\" fill=\"#000000\" fill-rule=\"nonzero\" fill-opacity=\"1\" /><path clip-path=\"url(#clip110)\" d=\"M993.456 1544.91 L1001.09 1544.91 L1001.09 1518.55 L992.784 1520.21 L992.784 1515.95 L1001.05 1514.29 L1005.72 1514.29 L1005.72 1544.91 L1013.36 1544.91 L1013.36 1548.85 L993.456 1548.85 L993.456 1544.91 Z\" fill=\"#000000\" fill-rule=\"nonzero\" fill-opacity=\"1\" /><path clip-path=\"url(#clip110)\" d=\"M1032.81 1517.37 Q1029.2 1517.37 1027.37 1520.93 Q1025.56 1524.47 1025.56 1531.6 Q1025.56 1538.71 1027.37 1542.27 Q1029.2 1545.82 1032.81 1545.82 Q1036.44 1545.82 1038.25 1542.27 Q1040.08 1538.71 1040.08 1531.6 Q1040.08 1524.47 1038.25 1520.93 Q1036.44 1517.37 1032.81 1517.37 M1032.81 1513.66 Q1038.62 1513.66 1041.67 1518.27 Q1044.75 1522.85 1044.75 1531.6 Q1044.75 1540.33 1041.67 1544.94 Q1038.62 1549.52 1032.81 1549.52 Q1027 1549.52 1023.92 1544.94 Q1020.86 1540.33 1020.86 1531.6 Q1020.86 1522.85 1023.92 1518.27 Q1027 1513.66 1032.81 1513.66 Z\" fill=\"#000000\" fill-rule=\"nonzero\" fill-opacity=\"1\" /><path clip-path=\"url(#clip110)\" d=\"M1418.25 1544.91 L1425.89 1544.91 L1425.89 1518.55 L1417.58 1520.21 L1417.58 1515.95 L1425.84 1514.29 L1430.52 1514.29 L1430.52 1544.91 L1438.16 1544.91 L1438.16 1548.85 L1418.25 1548.85 L1418.25 1544.91 Z\" fill=\"#000000\" fill-rule=\"nonzero\" fill-opacity=\"1\" /><path clip-path=\"url(#clip110)\" d=\"M1447.65 1514.29 L1466 1514.29 L1466 1518.22 L1451.93 1518.22 L1451.93 1526.7 Q1452.95 1526.35 1453.97 1526.19 Q1454.99 1526 1456 1526 Q1461.79 1526 1465.17 1529.17 Q1468.55 1532.34 1468.55 1537.76 Q1468.55 1543.34 1465.08 1546.44 Q1461.61 1549.52 1455.29 1549.52 Q1453.11 1549.52 1450.84 1549.15 Q1448.6 1548.78 1446.19 1548.04 L1446.19 1543.34 Q1448.27 1544.47 1450.5 1545.03 Q1452.72 1545.58 1455.19 1545.58 Q1459.2 1545.58 1461.54 1543.48 Q1463.87 1541.37 1463.87 1537.76 Q1463.87 1534.15 1461.54 1532.04 Q1459.2 1529.94 1455.19 1529.94 Q1453.32 1529.94 1451.44 1530.35 Q1449.59 1530.77 1447.65 1531.65 L1447.65 1514.29 Z\" fill=\"#000000\" fill-rule=\"nonzero\" fill-opacity=\"1\" /><path clip-path=\"url(#clip110)\" d=\"M1846.13 1544.91 L1862.45 1544.91 L1862.45 1548.85 L1840.51 1548.85 L1840.51 1544.91 Q1843.17 1542.16 1847.75 1537.53 Q1852.36 1532.88 1853.54 1531.53 Q1855.79 1529.01 1856.67 1527.27 Q1857.57 1525.51 1857.57 1523.82 Q1857.57 1521.07 1855.62 1519.33 Q1853.7 1517.6 1850.6 1517.6 Q1848.4 1517.6 1845.95 1518.36 Q1843.52 1519.13 1840.74 1520.68 L1840.74 1515.95 Q1843.56 1514.82 1846.02 1514.24 Q1848.47 1513.66 1850.51 1513.66 Q1855.88 1513.66 1859.07 1516.35 Q1862.27 1519.03 1862.27 1523.52 Q1862.27 1525.65 1861.46 1527.57 Q1860.67 1529.47 1858.56 1532.07 Q1857.99 1532.74 1854.88 1535.95 Q1851.78 1539.15 1846.13 1544.91 Z\" fill=\"#000000\" fill-rule=\"nonzero\" fill-opacity=\"1\" /><path clip-path=\"url(#clip110)\" d=\"M1882.27 1517.37 Q1878.66 1517.37 1876.83 1520.93 Q1875.02 1524.47 1875.02 1531.6 Q1875.02 1538.71 1876.83 1542.27 Q1878.66 1545.82 1882.27 1545.82 Q1885.9 1545.82 1887.71 1542.27 Q1889.54 1538.71 1889.54 1531.6 Q1889.54 1524.47 1887.71 1520.93 Q1885.9 1517.37 1882.27 1517.37 M1882.27 1513.66 Q1888.08 1513.66 1891.13 1518.27 Q1894.21 1522.85 1894.21 1531.6 Q1894.21 1540.33 1891.13 1544.94 Q1888.08 1549.52 1882.27 1549.52 Q1876.46 1549.52 1873.38 1544.94 Q1870.32 1540.33 1870.32 1531.6 Q1870.32 1522.85 1873.38 1518.27 Q1876.46 1513.66 1882.27 1513.66 Z\" fill=\"#000000\" fill-rule=\"nonzero\" fill-opacity=\"1\" /><path clip-path=\"url(#clip110)\" d=\"M2270.93 1544.91 L2287.25 1544.91 L2287.25 1548.85 L2265.3 1548.85 L2265.3 1544.91 Q2267.97 1542.16 2272.55 1537.53 Q2277.15 1532.88 2278.34 1531.53 Q2280.58 1529.01 2281.46 1527.27 Q2282.36 1525.51 2282.36 1523.82 Q2282.36 1521.07 2280.42 1519.33 Q2278.5 1517.6 2275.4 1517.6 Q2273.2 1517.6 2270.74 1518.36 Q2268.31 1519.13 2265.53 1520.68 L2265.53 1515.95 Q2268.36 1514.82 2270.81 1514.24 Q2273.27 1513.66 2275.3 1513.66 Q2280.67 1513.66 2283.87 1516.35 Q2287.06 1519.03 2287.06 1523.52 Q2287.06 1525.65 2286.25 1527.57 Q2285.47 1529.47 2283.36 1532.07 Q2282.78 1532.74 2279.68 1535.95 Q2276.58 1539.15 2270.93 1544.91 Z\" fill=\"#000000\" fill-rule=\"nonzero\" fill-opacity=\"1\" /><path clip-path=\"url(#clip110)\" d=\"M2297.11 1514.29 L2315.46 1514.29 L2315.46 1518.22 L2301.39 1518.22 L2301.39 1526.7 Q2302.41 1526.35 2303.43 1526.19 Q2304.45 1526 2305.47 1526 Q2311.25 1526 2314.63 1529.17 Q2318.01 1532.34 2318.01 1537.76 Q2318.01 1543.34 2314.54 1546.44 Q2311.07 1549.52 2304.75 1549.52 Q2302.57 1549.52 2300.3 1549.15 Q2298.06 1548.78 2295.65 1548.04 L2295.65 1543.34 Q2297.73 1544.47 2299.96 1545.03 Q2302.18 1545.58 2304.65 1545.58 Q2308.66 1545.58 2311 1543.48 Q2313.34 1541.37 2313.34 1537.76 Q2313.34 1534.15 2311 1532.04 Q2308.66 1529.94 2304.65 1529.94 Q2302.78 1529.94 2300.9 1530.35 Q2299.05 1530.77 2297.11 1531.65 L2297.11 1514.29 Z\" fill=\"#000000\" fill-rule=\"nonzero\" fill-opacity=\"1\" /><polyline clip-path=\"url(#clip112)\" style=\"stroke:#000000; stroke-linecap:round; stroke-linejoin:round; stroke-width:2; stroke-opacity:0.1; fill:none\" points=\"193.936,1428.44 2352.76,1428.44 \"/>\n",
       "<polyline clip-path=\"url(#clip112)\" style=\"stroke:#000000; stroke-linecap:round; stroke-linejoin:round; stroke-width:2; stroke-opacity:0.1; fill:none\" points=\"193.936,1151.66 2352.76,1151.66 \"/>\n",
       "<polyline clip-path=\"url(#clip112)\" style=\"stroke:#000000; stroke-linecap:round; stroke-linejoin:round; stroke-width:2; stroke-opacity:0.1; fill:none\" points=\"193.936,874.885 2352.76,874.885 \"/>\n",
       "<polyline clip-path=\"url(#clip112)\" style=\"stroke:#000000; stroke-linecap:round; stroke-linejoin:round; stroke-width:2; stroke-opacity:0.1; fill:none\" points=\"193.936,598.106 2352.76,598.106 \"/>\n",
       "<polyline clip-path=\"url(#clip112)\" style=\"stroke:#000000; stroke-linecap:round; stroke-linejoin:round; stroke-width:2; stroke-opacity:0.1; fill:none\" points=\"193.936,321.327 2352.76,321.327 \"/>\n",
       "<polyline clip-path=\"url(#clip110)\" style=\"stroke:#000000; stroke-linecap:round; stroke-linejoin:round; stroke-width:4; stroke-opacity:1; fill:none\" points=\"193.936,1486.45 193.936,47.2441 \"/>\n",
       "<polyline clip-path=\"url(#clip110)\" style=\"stroke:#000000; stroke-linecap:round; stroke-linejoin:round; stroke-width:4; stroke-opacity:1; fill:none\" points=\"193.936,1428.44 212.834,1428.44 \"/>\n",
       "<polyline clip-path=\"url(#clip110)\" style=\"stroke:#000000; stroke-linecap:round; stroke-linejoin:round; stroke-width:4; stroke-opacity:1; fill:none\" points=\"193.936,1151.66 212.834,1151.66 \"/>\n",
       "<polyline clip-path=\"url(#clip110)\" style=\"stroke:#000000; stroke-linecap:round; stroke-linejoin:round; stroke-width:4; stroke-opacity:1; fill:none\" points=\"193.936,874.885 212.834,874.885 \"/>\n",
       "<polyline clip-path=\"url(#clip110)\" style=\"stroke:#000000; stroke-linecap:round; stroke-linejoin:round; stroke-width:4; stroke-opacity:1; fill:none\" points=\"193.936,598.106 212.834,598.106 \"/>\n",
       "<polyline clip-path=\"url(#clip110)\" style=\"stroke:#000000; stroke-linecap:round; stroke-linejoin:round; stroke-width:4; stroke-opacity:1; fill:none\" points=\"193.936,321.327 212.834,321.327 \"/>\n",
       "<path clip-path=\"url(#clip110)\" d=\"M50.9921 1428.89 L80.6679 1428.89 L80.6679 1432.83 L50.9921 1432.83 L50.9921 1428.89 Z\" fill=\"#000000\" fill-rule=\"nonzero\" fill-opacity=\"1\" /><path clip-path=\"url(#clip110)\" d=\"M94.7882 1441.79 L111.108 1441.79 L111.108 1445.72 L89.1632 1445.72 L89.1632 1441.79 Q91.8252 1439.03 96.4085 1434.4 Q101.015 1429.75 102.196 1428.41 Q104.441 1425.89 105.321 1424.15 Q106.223 1422.39 106.223 1420.7 Q106.223 1417.95 104.279 1416.21 Q102.358 1414.47 99.2558 1414.47 Q97.0567 1414.47 94.603 1415.24 Q92.1725 1416 89.3947 1417.55 L89.3947 1412.83 Q92.2188 1411.7 94.6724 1411.12 Q97.1261 1410.54 99.1632 1410.54 Q104.534 1410.54 107.728 1413.22 Q110.922 1415.91 110.922 1420.4 Q110.922 1422.53 110.112 1424.45 Q109.325 1426.35 107.219 1428.94 Q106.64 1429.61 103.538 1432.83 Q100.436 1436.02 94.7882 1441.79 Z\" fill=\"#000000\" fill-rule=\"nonzero\" fill-opacity=\"1\" /><path clip-path=\"url(#clip110)\" d=\"M120.922 1439.84 L125.807 1439.84 L125.807 1445.72 L120.922 1445.72 L120.922 1439.84 Z\" fill=\"#000000\" fill-rule=\"nonzero\" fill-opacity=\"1\" /><path clip-path=\"url(#clip110)\" d=\"M145.992 1414.24 Q142.381 1414.24 140.552 1417.81 Q138.746 1421.35 138.746 1428.48 Q138.746 1435.58 140.552 1439.15 Q142.381 1442.69 145.992 1442.69 Q149.626 1442.69 151.431 1439.15 Q153.26 1435.58 153.26 1428.48 Q153.26 1421.35 151.431 1417.81 Q149.626 1414.24 145.992 1414.24 M145.992 1410.54 Q151.802 1410.54 154.857 1415.14 Q157.936 1419.73 157.936 1428.48 Q157.936 1437.2 154.857 1441.81 Q151.802 1446.39 145.992 1446.39 Q140.181 1446.39 137.103 1441.81 Q134.047 1437.2 134.047 1428.48 Q134.047 1419.73 137.103 1415.14 Q140.181 1410.54 145.992 1410.54 Z\" fill=\"#000000\" fill-rule=\"nonzero\" fill-opacity=\"1\" /><path clip-path=\"url(#clip110)\" d=\"M51.9875 1152.12 L81.6633 1152.12 L81.6633 1156.05 L51.9875 1156.05 L51.9875 1152.12 Z\" fill=\"#000000\" fill-rule=\"nonzero\" fill-opacity=\"1\" /><path clip-path=\"url(#clip110)\" d=\"M92.566 1165.01 L100.205 1165.01 L100.205 1138.64 L91.8947 1140.31 L91.8947 1136.05 L100.159 1134.38 L104.834 1134.38 L104.834 1165.01 L112.473 1165.01 L112.473 1168.94 L92.566 1168.94 L92.566 1165.01 Z\" fill=\"#000000\" fill-rule=\"nonzero\" fill-opacity=\"1\" /><path clip-path=\"url(#clip110)\" d=\"M121.918 1163.06 L126.802 1163.06 L126.802 1168.94 L121.918 1168.94 L121.918 1163.06 Z\" fill=\"#000000\" fill-rule=\"nonzero\" fill-opacity=\"1\" /><path clip-path=\"url(#clip110)\" d=\"M137.033 1134.38 L155.39 1134.38 L155.39 1138.32 L141.316 1138.32 L141.316 1146.79 Q142.334 1146.44 143.353 1146.28 Q144.371 1146.1 145.39 1146.1 Q151.177 1146.1 154.556 1149.27 Q157.936 1152.44 157.936 1157.86 Q157.936 1163.43 154.464 1166.54 Q150.992 1169.62 144.672 1169.62 Q142.496 1169.62 140.228 1169.25 Q137.982 1168.87 135.575 1168.13 L135.575 1163.43 Q137.658 1164.57 139.881 1165.12 Q142.103 1165.68 144.58 1165.68 Q148.584 1165.68 150.922 1163.57 Q153.26 1161.47 153.26 1157.86 Q153.26 1154.25 150.922 1152.14 Q148.584 1150.03 144.58 1150.03 Q142.705 1150.03 140.83 1150.45 Q138.978 1150.87 137.033 1151.75 L137.033 1134.38 Z\" fill=\"#000000\" fill-rule=\"nonzero\" fill-opacity=\"1\" /><path clip-path=\"url(#clip110)\" d=\"M50.9921 875.337 L80.6679 875.337 L80.6679 879.272 L50.9921 879.272 L50.9921 875.337 Z\" fill=\"#000000\" fill-rule=\"nonzero\" fill-opacity=\"1\" /><path clip-path=\"url(#clip110)\" d=\"M91.5706 888.23 L99.2095 888.23 L99.2095 861.864 L90.8993 863.531 L90.8993 859.272 L99.1632 857.605 L103.839 857.605 L103.839 888.23 L111.478 888.23 L111.478 892.165 L91.5706 892.165 L91.5706 888.23 Z\" fill=\"#000000\" fill-rule=\"nonzero\" fill-opacity=\"1\" /><path clip-path=\"url(#clip110)\" d=\"M120.922 886.286 L125.807 886.286 L125.807 892.165 L120.922 892.165 L120.922 886.286 Z\" fill=\"#000000\" fill-rule=\"nonzero\" fill-opacity=\"1\" /><path clip-path=\"url(#clip110)\" d=\"M145.992 860.684 Q142.381 860.684 140.552 864.249 Q138.746 867.79 138.746 874.92 Q138.746 882.026 140.552 885.591 Q142.381 889.133 145.992 889.133 Q149.626 889.133 151.431 885.591 Q153.26 882.026 153.26 874.92 Q153.26 867.79 151.431 864.249 Q149.626 860.684 145.992 860.684 M145.992 856.98 Q151.802 856.98 154.857 861.587 Q157.936 866.17 157.936 874.92 Q157.936 883.647 154.857 888.253 Q151.802 892.836 145.992 892.836 Q140.181 892.836 137.103 888.253 Q134.047 883.647 134.047 874.92 Q134.047 866.17 137.103 861.587 Q140.181 856.98 145.992 856.98 Z\" fill=\"#000000\" fill-rule=\"nonzero\" fill-opacity=\"1\" /><path clip-path=\"url(#clip110)\" d=\"M51.9875 598.558 L81.6633 598.558 L81.6633 602.493 L51.9875 602.493 L51.9875 598.558 Z\" fill=\"#000000\" fill-rule=\"nonzero\" fill-opacity=\"1\" /><path clip-path=\"url(#clip110)\" d=\"M101.756 583.905 Q98.1447 583.905 96.316 587.47 Q94.5104 591.011 94.5104 598.141 Q94.5104 605.247 96.316 608.812 Q98.1447 612.354 101.756 612.354 Q105.39 612.354 107.196 608.812 Q109.024 605.247 109.024 598.141 Q109.024 591.011 107.196 587.47 Q105.39 583.905 101.756 583.905 M101.756 580.201 Q107.566 580.201 110.621 584.808 Q113.7 589.391 113.7 598.141 Q113.7 606.868 110.621 611.474 Q107.566 616.058 101.756 616.058 Q95.9456 616.058 92.8669 611.474 Q89.8114 606.868 89.8114 598.141 Q89.8114 589.391 92.8669 584.808 Q95.9456 580.201 101.756 580.201 Z\" fill=\"#000000\" fill-rule=\"nonzero\" fill-opacity=\"1\" /><path clip-path=\"url(#clip110)\" d=\"M121.918 609.507 L126.802 609.507 L126.802 615.386 L121.918 615.386 L121.918 609.507 Z\" fill=\"#000000\" fill-rule=\"nonzero\" fill-opacity=\"1\" /><path clip-path=\"url(#clip110)\" d=\"M137.033 580.826 L155.39 580.826 L155.39 584.761 L141.316 584.761 L141.316 593.234 Q142.334 592.886 143.353 592.724 Q144.371 592.539 145.39 592.539 Q151.177 592.539 154.556 595.71 Q157.936 598.882 157.936 604.298 Q157.936 609.877 154.464 612.979 Q150.992 616.058 144.672 616.058 Q142.496 616.058 140.228 615.687 Q137.982 615.317 135.575 614.576 L135.575 609.877 Q137.658 611.011 139.881 611.567 Q142.103 612.122 144.58 612.122 Q148.584 612.122 150.922 610.016 Q153.26 607.909 153.26 604.298 Q153.26 600.687 150.922 598.581 Q148.584 596.474 144.58 596.474 Q142.705 596.474 140.83 596.891 Q138.978 597.308 137.033 598.187 L137.033 580.826 Z\" fill=\"#000000\" fill-rule=\"nonzero\" fill-opacity=\"1\" /><path clip-path=\"url(#clip110)\" d=\"M100.76 307.126 Q97.1493 307.126 95.3206 310.691 Q93.515 314.232 93.515 321.362 Q93.515 328.469 95.3206 332.033 Q97.1493 335.575 100.76 335.575 Q104.395 335.575 106.2 332.033 Q108.029 328.469 108.029 321.362 Q108.029 314.232 106.2 310.691 Q104.395 307.126 100.76 307.126 M100.76 303.422 Q106.571 303.422 109.626 308.029 Q112.705 312.612 112.705 321.362 Q112.705 330.089 109.626 334.695 Q106.571 339.279 100.76 339.279 Q94.9502 339.279 91.8715 334.695 Q88.816 330.089 88.816 321.362 Q88.816 312.612 91.8715 308.029 Q94.9502 303.422 100.76 303.422 Z\" fill=\"#000000\" fill-rule=\"nonzero\" fill-opacity=\"1\" /><path clip-path=\"url(#clip110)\" d=\"M120.922 332.728 L125.807 332.728 L125.807 338.607 L120.922 338.607 L120.922 332.728 Z\" fill=\"#000000\" fill-rule=\"nonzero\" fill-opacity=\"1\" /><path clip-path=\"url(#clip110)\" d=\"M145.992 307.126 Q142.381 307.126 140.552 310.691 Q138.746 314.232 138.746 321.362 Q138.746 328.469 140.552 332.033 Q142.381 335.575 145.992 335.575 Q149.626 335.575 151.431 332.033 Q153.26 328.469 153.26 321.362 Q153.26 314.232 151.431 310.691 Q149.626 307.126 145.992 307.126 M145.992 303.422 Q151.802 303.422 154.857 308.029 Q157.936 312.612 157.936 321.362 Q157.936 330.089 154.857 334.695 Q151.802 339.279 145.992 339.279 Q140.181 339.279 137.103 334.695 Q134.047 330.089 134.047 321.362 Q134.047 312.612 137.103 308.029 Q140.181 303.422 145.992 303.422 Z\" fill=\"#000000\" fill-rule=\"nonzero\" fill-opacity=\"1\" /><polyline clip-path=\"url(#clip112)\" style=\"stroke:#009af9; stroke-linecap:round; stroke-linejoin:round; stroke-width:4; stroke-opacity:1; fill:none\" points=\"255.035,321.327 339.894,365.612 424.753,454.181 509.612,585.264 594.472,731.368 679.331,874.796 764.19,1005.14 849.05,1117.22 933.909,1209.36 1018.77,1282.17 1103.63,1337.56 1188.49,1378.06 1273.35,1406.4 1358.21,1425.16 1443.06,1436.68 1527.92,1442.93 1612.78,1445.53 1697.64,1445.72 1782.5,1444.45 1867.36,1442.41 1952.22,1440.06 2037.08,1437.73 2121.94,1435.59 2206.8,1433.73 2291.66,1432.19 \"/>\n",
       "<polyline clip-path=\"url(#clip112)\" style=\"stroke:#e26f46; stroke-linecap:round; stroke-linejoin:round; stroke-width:4; stroke-opacity:1; fill:none\" points=\"255.035,321.327 339.894,320.55 424.753,318.994 509.612,316.66 594.472,313.549 679.331,309.66 764.19,304.993 849.05,299.548 933.909,293.325 1018.77,286.325 1103.63,278.546 1188.49,269.99 1273.35,260.656 1358.21,250.544 1443.06,239.654 1527.92,227.987 1612.78,215.542 1697.64,202.318 1782.5,188.317 1867.36,173.538 1952.22,157.982 2037.08,141.647 2121.94,124.535 2206.8,106.644 2291.66,87.9763 \"/>\n",
       "<path clip-path=\"url(#clip110)\" d=\"M265.897 1438.47 L534.209 1438.47 L534.209 1282.95 L265.897 1282.95  Z\" fill=\"#ffffff\" fill-rule=\"evenodd\" fill-opacity=\"1\"/>\n",
       "<polyline clip-path=\"url(#clip110)\" style=\"stroke:#000000; stroke-linecap:round; stroke-linejoin:round; stroke-width:4; stroke-opacity:1; fill:none\" points=\"265.897,1438.47 534.209,1438.47 534.209,1282.95 265.897,1282.95 265.897,1438.47 \"/>\n",
       "<polyline clip-path=\"url(#clip110)\" style=\"stroke:#009af9; stroke-linecap:round; stroke-linejoin:round; stroke-width:4; stroke-opacity:1; fill:none\" points=\"289.884,1334.79 433.805,1334.79 \"/>\n",
       "<path clip-path=\"url(#clip110)\" d=\"M471.634 1354.48 Q469.829 1359.11 468.116 1360.52 Q466.403 1361.94 463.532 1361.94 L460.13 1361.94 L460.13 1358.37 L462.63 1358.37 Q464.389 1358.37 465.361 1357.54 Q466.333 1356.7 467.514 1353.6 L468.278 1351.66 L457.792 1326.15 L462.306 1326.15 L470.407 1346.43 L478.509 1326.15 L483.023 1326.15 L471.634 1354.48 Z\" fill=\"#000000\" fill-rule=\"nonzero\" fill-opacity=\"1\" /><path clip-path=\"url(#clip110)\" d=\"M490.315 1348.14 L497.954 1348.14 L497.954 1321.77 L489.643 1323.44 L489.643 1319.18 L497.907 1317.51 L502.583 1317.51 L502.583 1348.14 L510.222 1348.14 L510.222 1352.07 L490.315 1352.07 L490.315 1348.14 Z\" fill=\"#000000\" fill-rule=\"nonzero\" fill-opacity=\"1\" /><polyline clip-path=\"url(#clip110)\" style=\"stroke:#e26f46; stroke-linecap:round; stroke-linejoin:round; stroke-width:4; stroke-opacity:1; fill:none\" points=\"289.884,1386.63 433.805,1386.63 \"/>\n",
       "<path clip-path=\"url(#clip110)\" d=\"M471.634 1406.32 Q469.829 1410.95 468.116 1412.36 Q466.403 1413.78 463.532 1413.78 L460.13 1413.78 L460.13 1410.21 L462.63 1410.21 Q464.389 1410.21 465.361 1409.38 Q466.333 1408.54 467.514 1405.44 L468.278 1403.5 L457.792 1377.99 L462.306 1377.99 L470.407 1398.27 L478.509 1377.99 L483.023 1377.99 L471.634 1406.32 Z\" fill=\"#000000\" fill-rule=\"nonzero\" fill-opacity=\"1\" /><path clip-path=\"url(#clip110)\" d=\"M493.532 1399.98 L509.852 1399.98 L509.852 1403.91 L487.907 1403.91 L487.907 1399.98 Q490.569 1397.22 495.153 1392.6 Q499.759 1387.94 500.94 1386.6 Q503.185 1384.08 504.065 1382.34 Q504.967 1380.58 504.967 1378.89 Q504.967 1376.14 503.023 1374.4 Q501.102 1372.66 498 1372.66 Q495.801 1372.66 493.347 1373.43 Q490.917 1374.19 488.139 1375.74 L488.139 1371.02 Q490.963 1369.89 493.417 1369.31 Q495.87 1368.73 497.907 1368.73 Q503.278 1368.73 506.472 1371.41 Q509.666 1374.1 509.666 1378.59 Q509.666 1380.72 508.856 1382.64 Q508.069 1384.54 505.963 1387.13 Q505.384 1387.8 502.282 1391.02 Q499.18 1394.22 493.532 1399.98 Z\" fill=\"#000000\" fill-rule=\"nonzero\" fill-opacity=\"1\" /></svg>\n"
      ]
     },
     "metadata": {},
     "output_type": "display_data"
    }
   ],
   "source": [
    "# comparison\n",
    "mechanism = get_mechanism()\n",
    "position_own = zeros(25)\n",
    "position_nn = zeros(25)\n",
    "\n",
    "function controller_own!(mechanism, k)\n",
    "    x = get_minimal_state(mechanism)\n",
    "    u = -GAINS * (x-x_des)\n",
    "    clamp!(u,-2,2)\n",
    "\n",
    "    position_own[k] = x[1]\n",
    "    \n",
    "    set_input!(mechanism, u)\n",
    "end\n",
    "\n",
    "function controller_nn!(mechanism, k)\n",
    "    x = get_minimal_state(mechanism)\n",
    "    u = [model(SA_F32[x...;x_des[1]])*2]\n",
    "    clamp!(u,-2,2)\n",
    "\n",
    "    position_nn[k] = x[1]\n",
    "    \n",
    "    set_input!(mechanism, u)\n",
    "end\n",
    "\n",
    "reset_mechanism!(mechanism)\n",
    "storage = simulate!(mechanism, 5.0, controller_own!, record=false)\n",
    "reset_mechanism!(mechanism)\n",
    "storage = simulate!(mechanism, 5.0, controller_nn!, record=false)\n",
    "\n",
    "plot(position_own)\n",
    "plot!(position_nn)"
   ]
  }
 ],
 "metadata": {
  "kernelspec": {
   "display_name": "Julia 1.10.2",
   "language": "julia",
   "name": "julia-1.10"
  },
  "language_info": {
   "file_extension": ".jl",
   "mimetype": "application/julia",
   "name": "julia",
   "version": "1.10.2"
  }
 },
 "nbformat": 4,
 "nbformat_minor": 5
}
