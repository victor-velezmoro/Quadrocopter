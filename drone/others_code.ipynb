{
 "cells": [
  {
   "cell_type": "code",
   "execution_count": 73,
   "metadata": {},
   "outputs": [],
   "source": [
    "using Dojo\n",
    "using DojoEnvironments\n",
    "using LinearAlgebra"
   ]
  },
  {
   "cell_type": "code",
   "execution_count": 74,
   "metadata": {},
   "outputs": [
    {
     "data": {
      "text/plain": [
       "DojoEnvironments.QuadrotorWaypoint{Float64, 2000}"
      ]
     },
     "metadata": {},
     "output_type": "display_data"
    }
   ],
   "source": [
    "HORIZON = 2000\n",
    "quadrotor_env = get_environment(:quadrotor_waypoint; horizon=HORIZON)\n",
    "\n",
    "\n"
   ]
  },
  {
   "cell_type": "code",
   "execution_count": 75,
   "metadata": {},
   "outputs": [
    {
     "data": {
      "text/plain": [
       "12×2000 Matrix{Float64}:\n",
       " 0.0  0.0  0.0  0.0  0.0  0.0  0.0  0.0  …  0.0  0.0  0.0  0.0  0.0  0.0  0.0\n",
       " 0.0  0.0  0.0  0.0  0.0  0.0  0.0  0.0     0.0  0.0  0.0  0.0  0.0  0.0  0.0\n",
       " 0.0  0.0  0.0  0.0  0.0  0.0  0.0  0.0     0.0  0.0  0.0  0.0  0.0  0.0  0.0\n",
       " 0.0  0.0  0.0  0.0  0.0  0.0  0.0  0.0     0.0  0.0  0.0  0.0  0.0  0.0  0.0\n",
       " 0.0  0.0  0.0  0.0  0.0  0.0  0.0  0.0     0.0  0.0  0.0  0.0  0.0  0.0  0.0\n",
       " 0.0  0.0  0.0  0.0  0.0  0.0  0.0  0.0  …  0.0  0.0  0.0  0.0  0.0  0.0  0.0\n",
       " 0.0  0.0  0.0  0.0  0.0  0.0  0.0  0.0     0.0  0.0  0.0  0.0  0.0  0.0  0.0\n",
       " 0.0  0.0  0.0  0.0  0.0  0.0  0.0  0.0     0.0  0.0  0.0  0.0  0.0  0.0  0.0\n",
       " 0.0  0.0  0.0  0.0  0.0  0.0  0.0  0.0     0.0  0.0  0.0  0.0  0.0  0.0  0.0\n",
       " 0.0  0.0  0.0  0.0  0.0  0.0  0.0  0.0     0.0  0.0  0.0  0.0  0.0  0.0  0.0\n",
       " 0.0  0.0  0.0  0.0  0.0  0.0  0.0  0.0  …  0.0  0.0  0.0  0.0  0.0  0.0  0.0\n",
       " 0.0  0.0  0.0  0.0  0.0  0.0  0.0  0.0     0.0  0.0  0.0  0.0  0.0  0.0  0.0"
      ]
     },
     "metadata": {},
     "output_type": "display_data"
    }
   ],
   "source": [
    "ref_position_xyz_world = [0;0;1]\n",
    "next_waypoint = 1\n",
    "state_traj = zeros(size(get_state(quadrotor_env))[1], HORIZON)\n"
   ]
  },
  {
   "cell_type": "code",
   "execution_count": 76,
   "metadata": {},
   "outputs": [
    {
     "data": {
      "text/plain": [
       "Dict{String, Matrix{Float64}} with 2 entries:\n",
       "  \"state_traj\"     => [0.0 0.0 … 0.0 0.0; 0.0 0.0 … 0.0 0.0; … ; 0.0 0.0 … 0.0 …\n",
       "  \"reference_traj\" => [0.0 0.0 … 0.0 0.0; 0.0 0.0 … 0.0 0.0; 0.0 0.0 … 0.0 0.0;…"
      ]
     },
     "metadata": {},
     "output_type": "display_data"
    }
   ],
   "source": [
    "\n",
    "reference_traj = zeros(4, HORIZON)\n",
    "plot_dict = Dict(\"state_traj\" => state_traj, \"reference_traj\" => reference_traj)"
   ]
  },
  {
   "cell_type": "code",
   "execution_count": 77,
   "metadata": {},
   "outputs": [
    {
     "data": {
      "text/plain": [
       "get_transformation_body_to_world (generic function with 1 method)"
      ]
     },
     "metadata": {},
     "output_type": "display_data"
    }
   ],
   "source": [
    "function get_transformation_body_to_world(x, y, z, roll, pitch, yaw)\n",
    "    R = RotXYZ(roll, pitch, yaw)\n",
    "    R_matrix = convert(Array{Float64, 2}, R) # Convert to matrix\n",
    "    \n",
    "    position_w = [x, y, z]\n",
    "    T_world_to_body = [R_matrix' - R_matrix' * position_w; 0 0 0 1]\n",
    "    return\n",
    "end"
   ]
  },
  {
   "cell_type": "code",
   "execution_count": 78,
   "metadata": {},
   "outputs": [
    {
     "data": {
      "text/plain": [
       "MMA! (generic function with 1 method)"
      ]
     },
     "metadata": {},
     "output_type": "display_data"
    }
   ],
   "source": [
    "function MMA!(roll, pitch, yaw, thrust)\n",
    "    u = zeros(4)\n",
    "    u[1] = trust + roll - pitch + yaw\n",
    "    u[2] = trust + roll + pitch - yaw\n",
    "    u[3] = trust - roll + pitch + yaw\n",
    "    u[4] = trust - roll - pitch - yaw\n",
    "    return u\n",
    "\n",
    "end\n"
   ]
  },
  {
   "cell_type": "code",
   "execution_count": 79,
   "metadata": {},
   "outputs": [
    {
     "data": {
      "text/plain": [
       "sensing_and_estiamtion (generic function with 1 method)"
      ]
     },
     "metadata": {},
     "output_type": "display_data"
    }
   ],
   "source": [
    "function sensing_and_estiamtion(environment)\n",
    "\n",
    "    state = get_state(environment)\n",
    "    position = state[1:3] # x,y,z\n",
    "    orientation = state[4:6] # axis*angle\n",
    "    linear_velocity = state[7:9] # vx, vy, vz\n",
    "    angular_velocity = state[10:12] # ωx, ωy, ωz \n",
    "    \n",
    "    altitude = position[3]\n",
    "    roll, pitch, yaw = orientation\n",
    "    \n",
    "    return roll, pitch, yaw, altitude\n",
    "end\n",
    "    \n"
   ]
  },
  {
   "cell_type": "code",
   "execution_count": 80,
   "metadata": {},
   "outputs": [
    {
     "data": {
      "text/plain": [
       "position_to_quadrotor_oritentation_controller (generic function with 1 method)"
      ]
     },
     "metadata": {},
     "output_type": "display_data"
    }
   ],
   "source": [
    "function position_to_quadrotor_oritentation_controller(environment, k)\n",
    "    global ref_position_xyz_world\n",
    "    position = get_state(environment)[1:3]\n",
    "    roll, pitch, yaw = get_state(environment)[4:6]\n",
    "    linear_velocity = get_state(environment)[7:9]\n",
    "    \n",
    "    \n",
    "   transformation_b_w = get_transformation_body_to_world(position[1], position[2], position[3], roll, pitch, yaw) \n",
    "   println(\"transformation_b_w: \", transformation_b_w)\n",
    "   ref_position_b = transformation_b_w * [ref_position_xyz_world;1]\n",
    "   ref_position_b = ref_position_b[1:3]\n",
    "   ref_position_b = ref_position_xyz_world\n",
    "   println(\"current position: , $position\")\n",
    "   plot_dict[\"state_traj\"][:, k] = get_state(environment)\n",
    "   println(\"ref_position_b: \", ref_position_b)  \n",
    "   \n",
    "   K_p_xy_roll = K_p_xy_pitch = 0.04\n",
    "   K_d_xy_roll = K_d_xy_pitch = 0.1\n",
    "   \n",
    "   roll_ref = -(K_p_xy_roll * (ref_position_b[2] - position[2]) + K_d_xy_roll * (0 - linear_velocity[2]))\n",
    "   pitch_ref = K_p_xy_pitch * (ref_position_b[1] - position[1]) + K_d_xy_pitch * (0 - linear_velocity[1])\n",
    "   plot_dict[\"reference_traj\"][1:3, k] = [roll_ref, pitch_ref, ref_position_b[2]-position[2]]\n",
    "   \n",
    "   return roll_ref, pitch_ref\n",
    "end\n",
    "   \n"
   ]
  },
  {
   "cell_type": "code",
   "execution_count": 81,
   "metadata": {},
   "outputs": [
    {
     "data": {
      "text/plain": [
       "cascade_controller (generic function with 1 method)"
      ]
     },
     "metadata": {},
     "output_type": "display_data"
    }
   ],
   "source": [
    "function cascade_controller(environment, k)\n",
    "    global ref_position_xyz_world\n",
    "    roll, pitch, yaw, altitude = sensing_and_estiamtion(environment)\n",
    "    roll_ref, pitch_ref = position_to_quadrotor_oritentation_controller(environment, k)\n",
    "    println(\"roll ref: \", roll_ref, \" pitch ref: \", pitch_ref)\n",
    "\n",
    "    yaw_ref = 0\n",
    "    altitude_ref = ref_position_xyz_world[3]\n",
    "end \n",
    "\n"
   ]
  },
  {
   "cell_type": "code",
   "execution_count": 82,
   "metadata": {},
   "outputs": [
    {
     "data": {
      "text/plain": [
       "controller! (generic function with 1 method)"
      ]
     },
     "metadata": {},
     "output_type": "display_data"
    }
   ],
   "source": [
    "function controller!(environment, k)\n",
    "    cascade_controller(environment, k)\n",
    "    fly_through_waypoints_controller!(environment, k)\n",
    "end\n",
    "\n",
    "\n"
   ]
  },
  {
   "cell_type": "code",
   "execution_count": 83,
   "metadata": {},
   "outputs": [
    {
     "data": {
      "text/plain": [
       "default_controller! (generic function with 1 method)"
      ]
     },
     "metadata": {},
     "output_type": "display_data"
    }
   ],
   "source": [
    "function default_controller!(environment, k)\n",
    "    set_input!(environment, rotor_speeds)\n",
    "end"
   ]
  },
  {
   "cell_type": "code",
   "execution_count": 84,
   "metadata": {},
   "outputs": [
    {
     "data": {
      "text/plain": [
       "fly_through_waypoints_controller! (generic function with 1 method)"
      ]
     },
     "metadata": {},
     "output_type": "display_data"
    }
   ],
   "source": [
    "function fly_through_waypoints_controller!(environment, k)\n",
    "    global next_waypoint\n",
    "    global ref_position_xyz_world\n",
    "    waypoints = \n",
    "    [\n",
    "        [1;1;0.3],\n",
    "        [2;0;0.3],\n",
    "        [1;-1;0.3],\n",
    "        [0;0;0.3],\n",
    "    ]\n",
    "    if norm(get_state(environment)[1:3]-waypoints[next_waypoint]) < 1e-1\n",
    "        if next_waypoint <4\n",
    "            next_waypoint += 1\n",
    "        end\n",
    "    end\n",
    "    ref_position_xyz_world = waypoints[next_waypoint]\n",
    "    cascade_controller(environment, k)\n",
    "end"
   ]
  },
  {
   "cell_type": "code",
   "execution_count": 85,
   "metadata": {},
   "outputs": [
    {
     "ename": "UndefVarError",
     "evalue": "UndefVarError: `RotXYZ` not defined",
     "output_type": "error",
     "traceback": [
      "UndefVarError: `RotXYZ` not defined\n",
      "\n",
      "Stacktrace:\n",
      " [1] get_transformation_body_to_world(x::Float64, y::Float64, z::Float64, roll::Float64, pitch::Float64, yaw::Float64)\n",
      "   @ Main ~/selectedtopics/drone/others_code.ipynb:2\n",
      " [2] position_to_quadrotor_oritentation_controller(environment::DojoEnvironments.QuadrotorWaypoint{Float64, 2000}, k::Int64)\n",
      "   @ Main ~/selectedtopics/drone/others_code.ipynb:8\n",
      " [3] cascade_controller(environment::DojoEnvironments.QuadrotorWaypoint{Float64, 2000}, k::Int64)\n",
      "   @ Main ~/selectedtopics/drone/others_code.ipynb:4\n",
      " [4] controller!(environment::DojoEnvironments.QuadrotorWaypoint{Float64, 2000}, k::Int64)\n",
      "   @ Main ~/selectedtopics/drone/others_code.ipynb:2\n",
      " [5] (::DojoEnvironments.var\"#controller_wrapper!#169\"{DojoEnvironments.QuadrotorWaypoint{Float64, 2000}, typeof(controller!), JointConstraint{Float64, 5, 2, Translational{Float64, 3, 0, 3, 0, 0}, Rotational{Float64, 2, 0, 2, 0, 1}}, JointConstraint{Float64, 5, 2, Translational{Float64, 3, 0, 3, 0, 0}, Rotational{Float64, 2, 0, 2, 0, 1}}, JointConstraint{Float64, 5, 2, Translational{Float64, 3, 0, 3, 0, 0}, Rotational{Float64, 2, 0, 2, 0, 1}}, JointConstraint{Float64, 5, 2, Translational{Float64, 3, 0, 3, 0, 0}, Rotational{Float64, 2, 0, 2, 0, 1}}})(mechanism::Mechanism{Float64, 18, 5, 5, 8}, k::Int64)\n",
      "   @ DojoEnvironments ~/.julia/packages/DojoEnvironments/wR9YZ/src/environments/quadrotor_waypoint.jl:91\n",
      " [6] simulate!(mechanism::Mechanism{Float64, 18, 5, 5, 8}, steps::UnitRange{Int64}, storage::Storage{Float64, 2000}, control!::DojoEnvironments.var\"#controller_wrapper!#169\"{DojoEnvironments.QuadrotorWaypoint{Float64, 2000}, typeof(controller!), JointConstraint{Float64, 5, 2, Translational{Float64, 3, 0, 3, 0, 0}, Rotational{Float64, 2, 0, 2, 0, 1}}, JointConstraint{Float64, 5, 2, Translational{Float64, 3, 0, 3, 0, 0}, Rotational{Float64, 2, 0, 2, 0, 1}}, JointConstraint{Float64, 5, 2, Translational{Float64, 3, 0, 3, 0, 0}, Rotational{Float64, 2, 0, 2, 0, 1}}, JointConstraint{Float64, 5, 2, Translational{Float64, 3, 0, 3, 0, 0}, Rotational{Float64, 2, 0, 2, 0, 1}}}; record::Bool, verbose::Bool, abort_upon_failure::Bool, opts::SolverOptions{Float64})\n",
      "   @ Dojo ~/.julia/packages/Dojo/8idsf/src/simulation/simulate.jl:26\n",
      " [7] simulate!(environment::DojoEnvironments.QuadrotorWaypoint{Float64, 2000}, controller!::typeof(controller!); kwargs::@Kwargs{record::Bool})\n",
      "   @ DojoEnvironments ~/.julia/packages/DojoEnvironments/wR9YZ/src/environments/quadrotor_waypoint.jl:94\n",
      " [8] top-level scope\n",
      "   @ ~/selectedtopics/drone/others_code.ipynb:3"
     ]
    }
   ],
   "source": [
    "# Simulate\n",
    "initialize!(quadrotor_env, :quadrotor; body_orientation=Dojo.RotZ(0))\n",
    "simulate!(quadrotor_env, controller!; record=true)\n",
    "\n",
    "\n",
    "vis = visualize(quadrotor_env)\n",
    "render(vis)\n"
   ]
  }
 ],
 "metadata": {
  "kernelspec": {
   "display_name": "Julia 1.10.3",
   "language": "julia",
   "name": "julia-1.10"
  },
  "language_info": {
   "file_extension": ".jl",
   "mimetype": "application/julia",
   "name": "julia",
   "version": "1.10.3"
  }
 },
 "nbformat": 4,
 "nbformat_minor": 2
}
