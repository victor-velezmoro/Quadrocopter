{
 "cells": [
  {
   "cell_type": "markdown",
   "metadata": {},
   "source": [
    "Drone flying up"
   ]
  },
  {
   "cell_type": "code",
   "execution_count": 9,
   "metadata": {},
   "outputs": [
    {
     "ename": "ErrorException",
     "evalue": "syntax: extra token \"Rotation\" after end of expression",
     "output_type": "error",
     "traceback": [
      "syntax: extra token \"Rotation\" after end of expression\n",
      "\n",
      "Stacktrace:\n",
      " [1] top-level scope\n",
      "   @ c:\\Users\\Amina Suciu\\Desktop\\copyrobotics\\selectedtopics\\drone\\drone_flying_up.ipynb:48"
     ]
    }
   ],
   "source": [
    "#Code from github example\n",
    "# ### Setup\n",
    "# PKG_SETUP\n",
    "using Dojo\n",
    "using DojoEnvironments\n",
    "using LinearAlgebra\n",
    "\n",
    "# ### Environment\n",
    "quadrotor_env = get_environment(:quadrotor_waypoint; horizon=1000)\n",
    "\n",
    "# ### Controllers\n",
    "trans_z_mode = normalize([1;1;1;1])\n",
    "\n",
    "function velocity_controller!(environment, v_des)\n",
    "    state = get_state(environment)\n",
    "    position = state[1:3] # x,y,z\n",
    "    orientation = state[4:6] # axis*angle\n",
    "    linear_velocity = state[7:9] # vx, vy, vz\n",
    "    angular_velocity = state[10:12] # ωx, ωy, ωz \n",
    "\n",
    "    v_z_is = get_state(environment)[9]\n",
    "    error_z = v_des .- v_z_is\n",
    "    println(\"error_z: \", error_z)\n",
    "    thrust = (10*error_z - 1*v_z_is + 5.1)*trans_z_mode # P, D, feedforward\n",
    "\n",
    "    rpm = thrust*20\n",
    "    println(\"rpm: \", rpm)\n",
    "    set_input!(environment, rpm)\n",
    "end\n",
    "\n",
    "function position_controller!(environment, z_des)\n",
    "    z_is = get_state(environment)[3]\n",
    "    v_des = z_des .- z_is\n",
    "    velocity_controller!(environment, v_des)\n",
    "end\n",
    "\n",
    "function controller!(environment, k)\n",
    "    position_controller!(environment, 0.8)\n",
    "end\n",
    "\n",
    "# ### Simulate\n",
    "initialize!(quadrotor_env, :quadrotor) # add do now understand how simulation works without this because where does it get its model ? \n",
    "simulate!(quadrotor_env, controller!; record=true)\n",
    "\n",
    "# ### Visualize\n",
    "vis = visualize(quadrotor_env)\n",
    "render(vis)\n",
    "\n",
    "\n",
    "\n"
   ]
  }
 ],
 "metadata": {
  "kernelspec": {
   "display_name": "Julia 1.10.3",
   "language": "julia",
   "name": "julia-1.10"
  },
  "language_info": {
   "file_extension": ".jl",
   "mimetype": "application/julia",
   "name": "julia",
   "version": "1.10.3"
  }
 },
 "nbformat": 4,
 "nbformat_minor": 2
}
