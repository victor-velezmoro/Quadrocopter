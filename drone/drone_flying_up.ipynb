{
 "cells": [
  {
   "cell_type": "markdown",
   "metadata": {},
   "source": [
    "Drone flying up"
   ]
  },
  {
   "cell_type": "code",
   "execution_count": 6,
   "metadata": {},
   "outputs": [
    {
     "data": {
      "text/plain": [
       "Storage for 1000 steps of 5 bodies.\n"
      ]
     },
     "metadata": {},
     "output_type": "display_data"
    }
   ],
   "source": [
    "#Code from github example\n",
    "# ### Setup\n",
    "# PKG_SETUP\n",
    "using Dojo\n",
    "using DojoEnvironments\n",
    "using LinearAlgebra\n",
    "\n",
    "# ### Environment\n",
    "quadrotor_env = get_environment(:quadrotor_waypoint; horizon=1000)\n",
    "\n",
    "# ### Controllers\n",
    "trans_z_mode = normalize([1;1;1;1])\n",
    "\n",
    "function velocity_controller!(environment, v_des)\n",
    "    v_is = get_state(environment)[9]\n",
    "    error_z = v_des - v_is\n",
    "    thrust = (10*error_z - 1*v_is + 5.1)*trans_z_mode # P, D, feedforward\n",
    "\n",
    "    rpm = thrust*20\n",
    "    set_input!(environment, rpm)\n",
    "end\n",
    "\n",
    "function position_controller!(environment, z_des)\n",
    "    z_is = get_state(environment)[3]\n",
    "    v_des = z_des - z_is\n",
    "    velocity_controller!(environment, v_des)\n",
    "end\n",
    "\n",
    "function controller!(environment, k)\n",
    "    position_controller!(environment, 0.8)\n",
    "end\n",
    "\n",
    "# ### Simulate\n",
    "simulate!(quadrotor_env, controller!; record=true)\n",
    "\n",
    "# ### Visualize\n",
    "vis = visualize(quadrotor_env)\n",
    "render(vis)"
   ]
  }
 ],
 "metadata": {
  "kernelspec": {
   "display_name": "Julia 1.10.3",
   "language": "julia",
   "name": "julia-1.10"
  },
  "language_info": {
   "file_extension": ".jl",
   "mimetype": "application/julia",
   "name": "julia",
   "version": "1.10.3"
  }
 },
 "nbformat": 4,
 "nbformat_minor": 2
}
