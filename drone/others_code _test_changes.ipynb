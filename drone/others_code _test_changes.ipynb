{
 "cells": [
  {
   "cell_type": "code",
   "execution_count": 14,
   "metadata": {},
   "outputs": [],
   "source": [
    "using Dojo\n",
    "using DojoEnvironments\n",
    "using LinearAlgebra\n",
    "using Rotations\n"
   ]
  },
  {
   "cell_type": "code",
   "execution_count": 15,
   "metadata": {},
   "outputs": [
    {
     "data": {
      "text/plain": [
       "DojoEnvironments.QuadrotorWaypoint{Float64, 2000}"
      ]
     },
     "metadata": {},
     "output_type": "display_data"
    }
   ],
   "source": [
    "HORIZON = 2000\n",
    "quadrotor_env = get_environment(:quadrotor_waypoint; horizon=HORIZON)\n",
    "\n",
    "\n"
   ]
  },
  {
   "cell_type": "code",
   "execution_count": 16,
   "metadata": {},
   "outputs": [
    {
     "data": {
      "text/plain": [
       "12×2000 Matrix{Float64}:\n",
       " 0.0  0.0  0.0  0.0  0.0  0.0  0.0  0.0  …  0.0  0.0  0.0  0.0  0.0  0.0  0.0\n",
       " 0.0  0.0  0.0  0.0  0.0  0.0  0.0  0.0     0.0  0.0  0.0  0.0  0.0  0.0  0.0\n",
       " 0.0  0.0  0.0  0.0  0.0  0.0  0.0  0.0     0.0  0.0  0.0  0.0  0.0  0.0  0.0\n",
       " 0.0  0.0  0.0  0.0  0.0  0.0  0.0  0.0     0.0  0.0  0.0  0.0  0.0  0.0  0.0\n",
       " 0.0  0.0  0.0  0.0  0.0  0.0  0.0  0.0     0.0  0.0  0.0  0.0  0.0  0.0  0.0\n",
       " 0.0  0.0  0.0  0.0  0.0  0.0  0.0  0.0  …  0.0  0.0  0.0  0.0  0.0  0.0  0.0\n",
       " 0.0  0.0  0.0  0.0  0.0  0.0  0.0  0.0     0.0  0.0  0.0  0.0  0.0  0.0  0.0\n",
       " 0.0  0.0  0.0  0.0  0.0  0.0  0.0  0.0     0.0  0.0  0.0  0.0  0.0  0.0  0.0\n",
       " 0.0  0.0  0.0  0.0  0.0  0.0  0.0  0.0     0.0  0.0  0.0  0.0  0.0  0.0  0.0\n",
       " 0.0  0.0  0.0  0.0  0.0  0.0  0.0  0.0     0.0  0.0  0.0  0.0  0.0  0.0  0.0\n",
       " 0.0  0.0  0.0  0.0  0.0  0.0  0.0  0.0  …  0.0  0.0  0.0  0.0  0.0  0.0  0.0\n",
       " 0.0  0.0  0.0  0.0  0.0  0.0  0.0  0.0     0.0  0.0  0.0  0.0  0.0  0.0  0.0"
      ]
     },
     "metadata": {},
     "output_type": "display_data"
    }
   ],
   "source": [
    "ref_position_xyz_world = [0;0;1]\n",
    "next_waypoint = 1\n",
    "state_traj = zeros(size(get_state(quadrotor_env))[1], HORIZON)\n"
   ]
  },
  {
   "cell_type": "code",
   "execution_count": 17,
   "metadata": {},
   "outputs": [
    {
     "data": {
      "text/plain": [
       "Dict{String, Matrix{Float64}} with 2 entries:\n",
       "  \"state_traj\"     => [0.0 0.0 … 0.0 0.0; 0.0 0.0 … 0.0 0.0; … ; 0.0 0.0 … 0.0 …\n",
       "  \"reference_traj\" => [0.0 0.0 … 0.0 0.0; 0.0 0.0 … 0.0 0.0; 0.0 0.0 … 0.0 0.0;…"
      ]
     },
     "metadata": {},
     "output_type": "display_data"
    }
   ],
   "source": [
    "\n",
    "reference_traj = zeros(4, HORIZON)\n",
    "plot_dict = Dict(\"state_traj\" => state_traj, \"reference_traj\" => reference_traj)"
   ]
  },
  {
   "cell_type": "code",
   "execution_count": 18,
   "metadata": {},
   "outputs": [
    {
     "data": {
      "text/plain": [
       "get_transformation_body_to_world (generic function with 1 method)"
      ]
     },
     "metadata": {},
     "output_type": "display_data"
    }
   ],
   "source": [
    "function get_transformation_body_to_world(x, y, z, roll, pitch, yaw)\n",
    "    R = RotXYZ(roll, pitch, yaw)\n",
    "    R_matrix = convert(Array{Float64, 2}, R) # Convert to matrix\n",
    "    \n",
    "    position_w = [x, y, z]\n",
    "    T_world_to_body = [R_matrix' -R_matrix' * position_w; 0 0 0 1]\n",
    "    return T_world_to_body\n",
    "end"
   ]
  },
  {
   "cell_type": "code",
   "execution_count": 19,
   "metadata": {},
   "outputs": [
    {
     "data": {
      "text/plain": [
       "MMA! (generic function with 1 method)"
      ]
     },
     "metadata": {},
     "output_type": "display_data"
    }
   ],
   "source": [
    "function MMA!(roll, pitch, yaw, thrust)\n",
    "    u = zeros(4)\n",
    "    u[1] = thrust + roll - pitch + yaw\n",
    "    u[2] = thrust + roll + pitch - yaw\n",
    "    u[3] = thrust - roll + pitch + yaw\n",
    "    u[4] = thrust - roll - pitch - yaw\n",
    "    return u\n",
    "\n",
    "end\n"
   ]
  },
  {
   "cell_type": "code",
   "execution_count": 20,
   "metadata": {},
   "outputs": [
    {
     "data": {
      "text/plain": [
       "sensing_and_estiamtion (generic function with 1 method)"
      ]
     },
     "metadata": {},
     "output_type": "display_data"
    }
   ],
   "source": [
    "function sensing_and_estiamtion(environment)\n",
    "\n",
    "    state = get_state(environment)\n",
    "    position = state[1:3] # x,y,z\n",
    "    orientation = state[4:6] # axis*angle\n",
    "    linear_velocity = state[7:9] # vx, vy, vz\n",
    "    angular_velocity = state[10:12] # ωx, ωy, ωz \n",
    "    \n",
    "    altitude = position[3]\n",
    "    roll, pitch, yaw = orientation\n",
    "    \n",
    "    return roll, pitch, yaw, altitude\n",
    "end\n",
    "    \n"
   ]
  },
  {
   "cell_type": "code",
   "execution_count": 21,
   "metadata": {},
   "outputs": [
    {
     "data": {
      "text/plain": [
       "position_to_quadrotor_oritentation_controller (generic function with 1 method)"
      ]
     },
     "metadata": {},
     "output_type": "display_data"
    }
   ],
   "source": [
    "function position_to_quadrotor_oritentation_controller(environment, k)\n",
    "    global ref_position_xyz_world\n",
    "    position = get_state(environment)[1:3]\n",
    "    roll, pitch, yaw = get_state(environment)[4:6]\n",
    "    linear_velocity = get_state(environment)[7:9]\n",
    "    \n",
    "    \n",
    "   transformation_b_w = get_transformation_body_to_world(position[1], position[2], position[3], roll, pitch, yaw) \n",
    "   println(\"transformation_b_w: \", transformation_b_w)\n",
    "   ref_position_b = transformation_b_w * [ref_position_xyz_world;1]\n",
    "   ref_position_b = ref_position_b[1:3]\n",
    "   ref_position_b = ref_position_xyz_world\n",
    "   println(\"current position: , $position\")\n",
    "   plot_dict[\"state_traj\"][:, k] = get_state(environment)\n",
    "   println(\"ref_position_b: \", ref_position_b)  \n",
    "   \n",
    "   K_p_xy_roll = K_p_xy_pitch = 0.04\n",
    "   K_d_xy_roll = K_d_xy_pitch = 0.1\n",
    "   \n",
    "   roll_ref = -(K_p_xy_roll * (ref_position_b[2] - position[2]) + K_d_xy_roll * (0 - linear_velocity[2]))\n",
    "   pitch_ref = K_p_xy_pitch * (ref_position_b[1] - position[1]) + K_d_xy_pitch * (0 - linear_velocity[1])\n",
    "   plot_dict[\"reference_traj\"][1:3, k] = [roll_ref, pitch_ref, ref_position_b[2]-position[2]]\n",
    "   \n",
    "   return roll_ref, pitch_ref\n",
    "end\n",
    "   \n"
   ]
  },
  {
   "cell_type": "code",
   "execution_count": 27,
   "metadata": {},
   "outputs": [
    {
     "data": {
      "text/plain": [
       "cascade_controller! (generic function with 1 method)"
      ]
     },
     "metadata": {},
     "output_type": "display_data"
    }
   ],
   "source": [
    "function cascade_controller!(environment, k)\n",
    "    global ref_position_xyz_world\n",
    "    # get the current system values\n",
    "    roll, pitch, yaw, altitude = sensing_and_estiamtion(environment)\n",
    "    println(\"states: $(sensing_and_estiamtion(environment))\")\n",
    "    # set some reference - TODO - make this to be set from outside or smth\n",
    "    #roll_ref, pitch_ref, yaw_ref, altitude_ref = [0.0, 0.0, 1.57, 1]\n",
    "    roll_ref, pitch_ref, = position_to_quadrotor_oritentation_controller(environment, k)\n",
    "    println(\"roll ref: $roll_ref, pitch_ref: $pitch_ref\")\n",
    "    yaw_ref = 0 #1.57\n",
    "    altitude_ref = ref_position_xyz_world[3] #1\n",
    "\n",
    "    # PIDs\n",
    "    # roll\n",
    "    K_p_roll = 4 #1\n",
    "    K_d_roll = 1\n",
    "    # pitch\n",
    "    K_p_pitch = 4 #1\n",
    "    K_d_pitch = 1\n",
    "    # yaw\n",
    "    K_p_yaw = 4 #1\n",
    "    K_d_yaw = 1\n",
    "    # thrust\n",
    "    K_p_thrust = 10 # kinda tuned\n",
    "    K_d_thrust = 10 # kinda tuned\n",
    "    # thrust feedforward is there to compensate gravity and i took the numbers from the cascaded hover example.\n",
    "    thrust_feedforward = 20 * 5.1 * 1/sqrt(4)#normalize([1;1;1;1])\n",
    "\n",
    "    roll_cntrl = K_p_roll * (roll_ref - roll) + K_d_roll * (0 - get_state(environment)[10])\n",
    "    pitch_cntrl = K_p_pitch * (pitch_ref - pitch) + K_d_pitch * (0 - get_state(environment)[11])\n",
    "    yaw_cntrl = K_p_yaw * (yaw_ref - yaw) + K_d_yaw * (0 - get_state(environment)[12])\n",
    "    thrust = K_p_thrust * (altitude_ref - altitude) + K_d_thrust * (0 - get_state(environment)[9])+ thrust_feedforward\n",
    "\n",
    "    u = MMA!(roll_cntrl, pitch_cntrl, yaw_cntrl, thrust)\n",
    "    set_input!(environment, u)\n",
    "\n",
    "end\n",
    "\n"
   ]
  },
  {
   "cell_type": "code",
   "execution_count": 23,
   "metadata": {},
   "outputs": [
    {
     "data": {
      "text/plain": [
       "controller! (generic function with 1 method)"
      ]
     },
     "metadata": {},
     "output_type": "display_data"
    }
   ],
   "source": [
    "\n",
    "function controller!(environment, k)\n",
    "    println(\"k: \", k) #k = runs \n",
    "    fly_through_waypoints_controller!(environment, k)\n",
    "end\n",
    "\n"
   ]
  },
  {
   "cell_type": "code",
   "execution_count": 24,
   "metadata": {},
   "outputs": [
    {
     "data": {
      "text/plain": [
       "default_controller! (generic function with 1 method)"
      ]
     },
     "metadata": {},
     "output_type": "display_data"
    }
   ],
   "source": [
    "function default_controller!(environment, k)\n",
    "    set_input!(environment, rotor_speeds)\n",
    "end"
   ]
  },
  {
   "cell_type": "code",
   "execution_count": 25,
   "metadata": {},
   "outputs": [
    {
     "data": {
      "text/plain": [
       "fly_through_waypoints_controller! (generic function with 1 method)"
      ]
     },
     "metadata": {},
     "output_type": "display_data"
    }
   ],
   "source": [
    "function fly_through_waypoints_controller!(environment, k)\n",
    "    global next_waypoint\n",
    "    global ref_position_xyz_world\n",
    "    waypoints = \n",
    "    [\n",
    "        [1;1;0.3],\n",
    "        [2;0;0.3],\n",
    "        [1;-1;0.3],\n",
    "        [0;0;0.3],\n",
    "    ]\n",
    "    if norm(get_state(environment)[1:3]-waypoints[next_waypoint]) < 1e-1\n",
    "        if next_waypoint < 4\n",
    "            println(\"next_waypoint: \", next_waypoint)\n",
    "            next_waypoint += 1\n",
    "        end\n",
    "    end\n",
    "    ref_position_xyz_world = waypoints[next_waypoint]\n",
    "    println(\"ref_position_xyz_world in waypoint funciton: \", ref_position_xyz_world)\n",
    "    cascade_controller!(environment, k)\n",
    "end"
   ]
  },
  {
   "cell_type": "code",
   "execution_count": 28,
   "metadata": {},
   "outputs": [
    {
     "data": {
      "text/html": [
       "    <div style=\"height: 500px; width: 100%; overflow-x: auto; overflow-y: hidden; resize: both\">\n",
       "    <iframe src=\"http://127.0.0.1:8704\" style=\"width: 100%; height: 100%; border: none\"></iframe>\n",
       "    </div>\n"
      ],
      "text/plain": [
       "MeshCat.DisplayedVisualizer(MeshCat.CoreVisualizer(MeshCat.SceneTrees.SceneNode(nothing, nothing, Dict{String, Vector{UInt8}}(), UInt8[0x83, 0xa7, 0x6f, 0x70, 0x74, 0x69, 0x6f, 0x6e, 0x73, 0x82  …  0x5f, 0x61, 0x6e, 0x69, 0x6d, 0x61, 0x74, 0x69, 0x6f, 0x6e], Dict{String, MeshCat.SceneTrees.SceneNode}(\"Background\" => MeshCat.SceneTrees.SceneNode(nothing, nothing, Dict{String, Vector{UInt8}}(\"top_color\" => [0x84, 0xa8, 0x70, 0x72, 0x6f, 0x70, 0x65, 0x72, 0x74, 0x79  …  0x42, 0x61, 0x63, 0x6b, 0x67, 0x72, 0x6f, 0x75, 0x6e, 0x64], \"bottom_color\" => [0x84, 0xa8, 0x70, 0x72, 0x6f, 0x70, 0x65, 0x72, 0x74, 0x79  …  0x42, 0x61, 0x63, 0x6b, 0x67, 0x72, 0x6f, 0x75, 0x6e, 0x64]), nothing, Dict{String, MeshCat.SceneTrees.SceneNode}()), \"Grid\" => MeshCat.SceneTrees.SceneNode(nothing, nothing, Dict{String, Vector{UInt8}}(\"visible\" => [0x84, 0xa8, 0x70, 0x72, 0x6f, 0x70, 0x65, 0x72, 0x74, 0x79  …  0x70, 0x61, 0x74, 0x68, 0xa5, 0x2f, 0x47, 0x72, 0x69, 0x64]), nothing, Dict{String, MeshCat.SceneTrees.SceneNode}()), \"meshcat\" => MeshCat.SceneTrees.SceneNode(nothing, nothing, Dict{String, Vector{UInt8}}(), nothing, Dict{String, MeshCat.SceneTrees.SceneNode}(\"waypoints\" => MeshCat.SceneTrees.SceneNode(nothing, nothing, Dict{String, Vector{UInt8}}(), nothing, Dict{String, MeshCat.SceneTrees.SceneNode}(\"waypoint1\" => MeshCat.SceneTrees.SceneNode(UInt8[0x83, 0xa6, 0x6f, 0x62, 0x6a, 0x65, 0x63, 0x74, 0x84, 0xaa  …  0x2f, 0x77, 0x61, 0x79, 0x70, 0x6f, 0x69, 0x6e, 0x74, 0x31], nothing, Dict{String, Vector{UInt8}}(), nothing, Dict{String, MeshCat.SceneTrees.SceneNode}()), \"waypoint3\" => MeshCat.SceneTrees.SceneNode(UInt8[0x83, 0xa6, 0x6f, 0x62, 0x6a, 0x65, 0x63, 0x74, 0x84, 0xaa  …  0x2f, 0x77, 0x61, 0x79, 0x70, 0x6f, 0x69, 0x6e, 0x74, 0x33], nothing, Dict{String, Vector{UInt8}}(), nothing, Dict{String, MeshCat.SceneTrees.SceneNode}()), \"waypoint4\" => MeshCat.SceneTrees.SceneNode(UInt8[0x83, 0xa6, 0x6f, 0x62, 0x6a, 0x65, 0x63, 0x74, 0x84, 0xaa  …  0x2f, 0x77, 0x61, 0x79, 0x70, 0x6f, 0x69, 0x6e, 0x74, 0x34], nothing, Dict{String, Vector{UInt8}}(), nothing, Dict{String, MeshCat.SceneTrees.SceneNode}()), \"waypoint2\" => MeshCat.SceneTrees.SceneNode(UInt8[0x83, 0xa6, 0x6f, 0x62, 0x6a, 0x65, 0x63, 0x74, 0x84, 0xaa  …  0x2f, 0x77, 0x61, 0x79, 0x70, 0x6f, 0x69, 0x6e, 0x74, 0x32], nothing, Dict{String, Vector{UInt8}}(), nothing, Dict{String, MeshCat.SceneTrees.SceneNode}()))), \"floor\" => MeshCat.SceneTrees.SceneNode(UInt8[0x83, 0xa6, 0x6f, 0x62, 0x6a, 0x65, 0x63, 0x74, 0x84, 0xaa  …  0x68, 0x63, 0x61, 0x74, 0x2f, 0x66, 0x6c, 0x6f, 0x6f, 0x72], UInt8[0x83, 0xa6, 0x6d, 0x61, 0x74, 0x72, 0x69, 0x78, 0xc7, 0x40  …  0x68, 0x63, 0x61, 0x74, 0x2f, 0x66, 0x6c, 0x6f, 0x6f, 0x72], Dict{String, Vector{UInt8}}(), nothing, Dict{String, MeshCat.SceneTrees.SceneNode}()), \"robot\" => MeshCat.SceneTrees.SceneNode(nothing, nothing, Dict{String, Vector{UInt8}}(), nothing, Dict{String, MeshCat.SceneTrees.SceneNode}(\"bodies\" => MeshCat.SceneTrees.SceneNode(nothing, nothing, Dict{String, Vector{UInt8}}(), nothing, Dict{String, MeshCat.SceneTrees.SceneNode}(\"rotor_3__id_1\" => MeshCat.SceneTrees.SceneNode(UInt8[0x83, 0xa6, 0x6f, 0x62, 0x6a, 0x65, 0x63, 0x74, 0x84, 0xaa  …  0x6f, 0x72, 0x5f, 0x33, 0x5f, 0x5f, 0x69, 0x64, 0x5f, 0x31], nothing, Dict{String, Vector{UInt8}}(), nothing, Dict{String, MeshCat.SceneTrees.SceneNode}()), \"rotor_1__id_4\" => MeshCat.SceneTrees.SceneNode(UInt8[0x83, 0xa6, 0x6f, 0x62, 0x6a, 0x65, 0x63, 0x74, 0x84, 0xaa  …  0x6f, 0x72, 0x5f, 0x31, 0x5f, 0x5f, 0x69, 0x64, 0x5f, 0x34], nothing, Dict{String, Vector{UInt8}}(), nothing, Dict{String, MeshCat.SceneTrees.SceneNode}()), \"base_link__id_2\" => MeshCat.SceneTrees.SceneNode(UInt8[0x83, 0xa6, 0x6f, 0x62, 0x6a, 0x65, 0x63, 0x74, 0x84, 0xaa  …  0x6c, 0x69, 0x6e, 0x6b, 0x5f, 0x5f, 0x69, 0x64, 0x5f, 0x32], nothing, Dict{String, Vector{UInt8}}(), nothing, Dict{String, MeshCat.SceneTrees.SceneNode}()), \"rotor_0__id_5\" => MeshCat.SceneTrees.SceneNode(UInt8[0x83, 0xa6, 0x6f, 0x62, 0x6a, 0x65, 0x63, 0x74, 0x84, 0xaa  …  0x6f, 0x72, 0x5f, 0x30, 0x5f, 0x5f, 0x69, 0x64, 0x5f, 0x35], nothing, Dict{String, Vector{UInt8}}(), nothing, Dict{String, MeshCat.SceneTrees.SceneNode}()), \"rotor_2__id_3\" => MeshCat.SceneTrees.SceneNode(UInt8[0x83, 0xa6, 0x6f, 0x62, 0x6a, 0x65, 0x63, 0x74, 0x84, 0xaa  …  0x6f, 0x72, 0x5f, 0x32, 0x5f, 0x5f, 0x69, 0x64, 0x5f, 0x33], nothing, Dict{String, Vector{UInt8}}(), nothing, Dict{String, MeshCat.SceneTrees.SceneNode}()))))))), \"Lights\" => MeshCat.SceneTrees.SceneNode(nothing, nothing, Dict{String, Vector{UInt8}}(), nothing, Dict{String, MeshCat.SceneTrees.SceneNode}(\"PointLightPositiveX\" => MeshCat.SceneTrees.SceneNode(nothing, nothing, Dict{String, Vector{UInt8}}(), nothing, Dict{String, MeshCat.SceneTrees.SceneNode}(\"<object>\" => MeshCat.SceneTrees.SceneNode(nothing, nothing, Dict{String, Vector{UInt8}}(\"intensity\" => [0x84, 0xa8, 0x70, 0x72, 0x6f, 0x70, 0x65, 0x72, 0x74, 0x79  …  0x58, 0x2f, 0x3c, 0x6f, 0x62, 0x6a, 0x65, 0x63, 0x74, 0x3e], \"castShadow\" => [0x84, 0xa8, 0x70, 0x72, 0x6f, 0x70, 0x65, 0x72, 0x74, 0x79  …  0x58, 0x2f, 0x3c, 0x6f, 0x62, 0x6a, 0x65, 0x63, 0x74, 0x3e]), nothing, Dict{String, MeshCat.SceneTrees.SceneNode}()))), \"AmbientLight\" => MeshCat.SceneTrees.SceneNode(nothing, nothing, Dict{String, Vector{UInt8}}(), nothing, Dict{String, MeshCat.SceneTrees.SceneNode}(\"<object>\" => MeshCat.SceneTrees.SceneNode(nothing, nothing, Dict{String, Vector{UInt8}}(\"intensity\" => [0x84, 0xa8, 0x70, 0x72, 0x6f, 0x70, 0x65, 0x72, 0x74, 0x79  …  0x74, 0x2f, 0x3c, 0x6f, 0x62, 0x6a, 0x65, 0x63, 0x74, 0x3e]), nothing, Dict{String, MeshCat.SceneTrees.SceneNode}()))), \"FillLight\" => MeshCat.SceneTrees.SceneNode(nothing, nothing, Dict{String, Vector{UInt8}}(), nothing, Dict{String, MeshCat.SceneTrees.SceneNode}(\"<object>\" => MeshCat.SceneTrees.SceneNode(nothing, nothing, Dict{String, Vector{UInt8}}(\"intensity\" => [0x84, 0xa8, 0x70, 0x72, 0x6f, 0x70, 0x65, 0x72, 0x74, 0x79  …  0x74, 0x2f, 0x3c, 0x6f, 0x62, 0x6a, 0x65, 0x63, 0x74, 0x3e]), nothing, Dict{String, MeshCat.SceneTrees.SceneNode}()))))), \"Axes\" => MeshCat.SceneTrees.SceneNode(nothing, nothing, Dict{String, Vector{UInt8}}(\"visible\" => [0x84, 0xa8, 0x70, 0x72, 0x6f, 0x70, 0x65, 0x72, 0x74, 0x79  …  0x70, 0x61, 0x74, 0x68, 0xa5, 0x2f, 0x41, 0x78, 0x65, 0x73]), nothing, Dict{String, MeshCat.SceneTrees.SceneNode}()))), Set{HTTP.WebSockets.WebSocket}(), ip\"127.0.0.1\", 8704, HTTP.Servers.Server{HTTP.Servers.Listener{Nothing, Sockets.TCPServer}}(HTTP.Servers.Listener{Nothing, Sockets.TCPServer}(Sockets.InetAddr{Sockets.IPv4}(ip\"127.0.0.1\", 8704), \"127.0.0.1\", \"8704\", nothing, Sockets.TCPServer(RawFD(30) active)), nothing, Set{HTTP.Connections.Connection}(), Task (runnable) @0x000074aa5311e400, ReentrantLock(nothing, 0x00000000, 0x00, Base.GenericCondition{Base.Threads.SpinLock}(Base.IntrusiveLinkedList{Task}(nothing, nothing), Base.Threads.SpinLock(0)), (0, -5331546385038936602, 6)))))"
      ]
     },
     "metadata": {},
     "output_type": "display_data"
    }
   ],
   "source": [
    "# Simulate\n",
    "initialize!(quadrotor_env, :quadrotor)\n",
    "simulate!(quadrotor_env, controller!; record=true)\n",
    "\n",
    "\n",
    "vis = visualize(quadrotor_env)\n",
    "render(vis)\n"
   ]
  }
 ],
 "metadata": {
  "kernelspec": {
   "display_name": "Julia 1.10.3",
   "language": "julia",
   "name": "julia-1.10"
  },
  "language_info": {
   "file_extension": ".jl",
   "mimetype": "application/julia",
   "name": "julia",
   "version": "1.10.3"
  }
 },
 "nbformat": 4,
 "nbformat_minor": 2
}
